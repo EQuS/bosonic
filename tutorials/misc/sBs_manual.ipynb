{
 "cells": [
  {
   "cell_type": "code",
   "execution_count": 1,
   "id": "19ca2e40-9c48-4321-a110-4bd5fc1084b2",
   "metadata": {},
   "outputs": [],
   "source": [
    "%load_ext autoreload\n",
    "%autoreload 2"
   ]
  },
  {
   "cell_type": "code",
   "execution_count": 2,
   "id": "9b8b9468-2000-4b6c-ac1b-d84ab06c5060",
   "metadata": {},
   "outputs": [],
   "source": [
    "import sys\n",
    "sys.path.insert(0, \"../../\")"
   ]
  },
  {
   "cell_type": "code",
   "execution_count": 3,
   "id": "1fe05527-2c91-4333-b229-24569cc13cc1",
   "metadata": {},
   "outputs": [],
   "source": [
    "from jax import jit, vmap, grad\n",
    "from jax.lax import scan\n",
    "from jax.experimental.ode import odeint\n",
    "from bosonic_jax import BosonicResults\n",
    "import jaxquantum as jqt\n",
    "import jax.numpy as jnp\n",
    "import jax.scipy as jsp\n",
    "import time\n",
    "import matplotlib.pyplot as plt\n",
    "import numpy as np\n",
    "\n",
    "import seaborn as sns\n",
    "# Apply the default theme\n",
    "sns.set_theme()\n",
    "\n",
    "from jax.config import config\n",
    "config.update(\"jax_enable_x64\", True)"
   ]
  },
  {
   "cell_type": "markdown",
   "id": "8588fe6a-c96c-497c-8030-f6479ed9228d",
   "metadata": {},
   "source": [
    "# Manual sBs"
   ]
  },
  {
   "cell_type": "code",
   "execution_count": 4,
   "id": "9d67652e-7258-4516-bc7f-9b3d2f7b26cd",
   "metadata": {},
   "outputs": [],
   "source": [
    "N = 50\n",
    "N_rounds = 20"
   ]
  },
  {
   "cell_type": "code",
   "execution_count": 5,
   "id": "5ba07727-4ef0-460b-91e0-dcacc9cfe15f",
   "metadata": {},
   "outputs": [],
   "source": [
    "@jit\n",
    "def gen_GKP_basis_states(delta):\n",
    "    \n",
    "    # code params\n",
    "    params = {}\n",
    "    params[\"delta\"] = delta\n",
    "    params[\"l\"] = 2.0 * jnp.sqrt(jnp.pi)\n",
    "    s_delta = jnp.sinh(params[\"delta\"] ** 2)\n",
    "    params[\"epsilon\"] = s_delta * params[\"l\"]\n",
    "    \n",
    "    common_gates = {}\n",
    "    \n",
    "    common_gates[\"a\"] = jqt.destroy(N)\n",
    "    common_gates[\"a_dag\"] = jqt.dag(common_gates[\"a\"])\n",
    "    common_gates[\"x\"] = (common_gates[\"a_dag\"] + common_gates[\"a\"])/jnp.sqrt(2)\n",
    "    common_gates[\"p\"] = 1.0j*(common_gates[\"a_dag\"] - common_gates[\"a\"])/jnp.sqrt(2)\n",
    "    \n",
    "    common_gates[\"E\"] = jsp.linalg.expm(- params[\"delta\"] ** 2 * common_gates[\"a_dag\"] @ common_gates[\"a\"])\n",
    "    common_gates[\"E_inv\"] = jsp.linalg.expm(params[\"delta\"] ** 2 * common_gates[\"a_dag\"] @ common_gates[\"a\"])\n",
    "    \n",
    "    x_axis = common_gates[\"x\"]\n",
    "    z_axis = -common_gates[\"p\"]\n",
    "    \n",
    "    y_axis = x_axis + z_axis\n",
    "    \n",
    "    def _symmetrized_expm(op):\n",
    "        return (jsp.linalg.expm(op) + jsp.linalg.expm(-1.0 * op)) / 2.0\n",
    "    \n",
    "    def _make_op_finite_energy(op):\n",
    "        return common_gates[\"E\"] @ op @ common_gates[\"E_inv\"]\n",
    "    \n",
    "    common_gates[\"Z_s_0\"] = _symmetrized_expm(\n",
    "        1.0j * params[\"l\"] / 2.0 * x_axis\n",
    "    )\n",
    "    common_gates[\"S_x_0\"] = _symmetrized_expm(\n",
    "        1.0j * params[\"l\"] * z_axis\n",
    "    )\n",
    "    common_gates[\"S_z_0\"] = _symmetrized_expm(\n",
    "        1.0j * params[\"l\"] * x_axis\n",
    "    )\n",
    "    common_gates[\"S_y_0\"] = _symmetrized_expm(\n",
    "        1.0j * params[\"l\"] * y_axis\n",
    "    )\n",
    "    \n",
    "    X_0 = jsp.linalg.expm(1.0j * params[\"l\"] / 2.0 * z_axis)\n",
    "    Z_0 = jsp.linalg.expm(1.0j * params[\"l\"] / 2.0 * x_axis)\n",
    "    Y_0 = 1.0j * X_0 @ Z_0\n",
    "    \n",
    "    common_gates[\"X\"] = _make_op_finite_energy(X_0)\n",
    "    common_gates[\"Y\"] = _make_op_finite_energy(Y_0)\n",
    "    common_gates[\"Z\"] = _make_op_finite_energy(Z_0)\n",
    "    \n",
    "    H_0 = (\n",
    "        - common_gates[\"S_x_0\"]\n",
    "        - common_gates[\"S_y_0\"]\n",
    "        - common_gates[\"S_z_0\"]\n",
    "        - common_gates[\"Z_s_0\"]  # bosonic |+z> state\n",
    "    )\n",
    "\n",
    "    _, vecs = jnp.linalg.eigh(H_0)\n",
    "    gstate_ideal = vecs[:, 0]\n",
    "\n",
    "    # step 2: make ideal eigenvector finite energy\n",
    "    gstate = common_gates[\"E\"] @ gstate_ideal\n",
    "\n",
    "    plus_z = jqt.unit(gstate).reshape(N, 1)\n",
    "    minus_z = common_gates[\"X\"] @ plus_z\n",
    "    \n",
    "    basis = {}\n",
    "    \n",
    "    basis[\"+z\"] = plus_z.reshape(N, 1)\n",
    "    basis[\"-z\"] = minus_z.reshape(N, 1)\n",
    "\n",
    "    basis[\"+x\"] = jqt.unit(basis[\"+z\"] + basis[\"-z\"])\n",
    "    basis[\"-x\"] = jqt.unit(basis[\"+z\"] - basis[\"-z\"])\n",
    "    basis[\"+y\"] = jqt.unit(basis[\"+z\"] + 1j * basis[\"-z\"])\n",
    "    basis[\"-y\"] = jqt.unit(basis[\"+z\"] - 1j * basis[\"-z\"])\n",
    "    return params, basis, common_gates"
   ]
  },
  {
   "cell_type": "code",
   "execution_count": 6,
   "id": "6fd740e6-7090-412c-b311-334eceeb05d8",
   "metadata": {},
   "outputs": [
    {
     "name": "stdout",
     "output_type": "stream",
     "text": [
      "First Run Time (s):  10.63458514213562\n"
     ]
    }
   ],
   "source": [
    "start = time.time()\n",
    "GKP_params, GKP_basis, GKP_gates = gen_GKP_basis_states(0.25)\n",
    "print(\"First Run Time (s): \", time.time() - start)"
   ]
  },
  {
   "cell_type": "code",
   "execution_count": 7,
   "id": "1671e3e9-adcb-435a-b8b7-2ab10dec0572",
   "metadata": {},
   "outputs": [
    {
     "name": "stdout",
     "output_type": "stream",
     "text": [
      "6.34 ms ± 342 µs per loop (mean ± std. dev. of 7 runs, 100 loops each)\n"
     ]
    }
   ],
   "source": [
    "%timeit gen_GKP_basis_states(0.25)"
   ]
  },
  {
   "cell_type": "code",
   "execution_count": 8,
   "id": "34c2bc28-5af9-434c-ab25-756db52a9f20",
   "metadata": {},
   "outputs": [],
   "source": [
    "@jit\n",
    "def gen_gates(params, basis):\n",
    "    \"\"\"GKP + Stabilization Params\"\"\"\n",
    "    l = params[\"l\"]\n",
    "    Δ = params[\"delta\"]\n",
    "    c = jnp.cosh(Δ**2)\n",
    "    epsilon = params[\"epsilon\"]\n",
    "\n",
    "\n",
    "    \"\"\"Useful Qubit Operators\"\"\"\n",
    "    ρ_qubit_g = jqt.ket2dm(jqt.basis(2,0))\n",
    "    ρ_qubit_e = jqt.ket2dm(jqt.basis(2,1))\n",
    "    ρ_qubit_plus = jqt.ket2dm(jqt.unit(jqt.basis(2,0) + jqt.basis(2,1)))\n",
    "    I_q = jqt.identity(2)\n",
    "\n",
    "    \"\"\"Useful Cavity Operators\"\"\"\n",
    "    ρ_cavity_vac = jqt.ket2dm(jqt.coherent(N, 0))\n",
    "\n",
    "    I_a = jqt.identity(N)\n",
    "    a = jqt.destroy(N)\n",
    "    q_a = (+1 * (a + jqt.dag(a)) / jnp.sqrt(2))\n",
    "    p_a = (-1j * (a - jqt.dag(a)) / jnp.sqrt(2))\n",
    "\n",
    "\n",
    "\n",
    "    \"\"\"sBs Phase Estimation Unitaries\"\"\"\n",
    "\n",
    "    M_z = jqt.expm(jqt.tensor(-1j * l * c * q_a / 4, jqt.sigmax())) @ jqt.expm(jqt.tensor(-1j * epsilon * p_a / 4, jqt.sigmay()))\n",
    "\n",
    "    M_x = jqt.expm(jqt.tensor(-1j * l * c * p_a / 4, jqt.sigmax())) @ jqt.expm(jqt.tensor(+1j * epsilon * q_a / 4, jqt.sigmay()))\n",
    "\n",
    "    M_y = jqt.expm(jqt.tensor(-1j * l * c * (q_a + p_a) / 4, jqt.sigmax())) @ jqt.expm(jqt.tensor(-1j * epsilon * (p_a - q_a) / 4, jqt.sigmay()))\n",
    "    \n",
    "    \n",
    "    def gen_CD(beta):\n",
    "        return (jqt.tensor(1.0j * (beta * jqt.dag(a) - jnp.conj(beta) * a) / jnp.sqrt(2), jqt.sigmaz() / 2), jnp.linspace(0, 1, 101))\n",
    "    \n",
    "    def gen_RX(omega):\n",
    "        return (jqt.tensor(I_a, jqt.sigmax() * omega / 2), jnp.linspace(0, jnp.pi / 2, 101))\n",
    "        \n",
    "    circs = {\"x\":([],[]), \"p\":([],[])}\n",
    "\n",
    "    # bcirc_x\n",
    "    gate, ts = gen_CD(epsilon/2)\n",
    "    circs[\"x\"][0].append(gate)\n",
    "    circs[\"x\"][1].append(ts)\n",
    "    \n",
    "    gate, ts = gen_RX(1)\n",
    "    circs[\"x\"][0].append(gate)\n",
    "    circs[\"x\"][1].append(ts)\n",
    "    \n",
    "    gate, ts = gen_CD(-1.0j*l)\n",
    "    circs[\"x\"][0].append(gate)\n",
    "    circs[\"x\"][1].append(ts)\n",
    "    \n",
    "    gate, ts = gen_RX(-1)\n",
    "    circs[\"x\"][0].append(gate)\n",
    "    circs[\"x\"][1].append(ts)\n",
    "    \n",
    "    gate, ts = gen_CD(epsilon/2)\n",
    "    circs[\"x\"][0].append(gate)\n",
    "    circs[\"x\"][1].append(ts)\n",
    "    \n",
    "    # bcirc_p\n",
    "    gate, ts = gen_CD(1.0j*epsilon/2)\n",
    "    circs[\"p\"][0].append(gate)\n",
    "    circs[\"p\"][1].append(ts)\n",
    "    \n",
    "    gate, ts = gen_RX(1)\n",
    "    circs[\"p\"][0].append(gate)\n",
    "    circs[\"p\"][1].append(ts)\n",
    "    \n",
    "    gate, ts = gen_CD(1.0j*(-1.0j*l))\n",
    "    circs[\"p\"][0].append(gate)\n",
    "    circs[\"p\"][1].append(ts)\n",
    "    \n",
    "    gate, ts = gen_RX(-1)\n",
    "    circs[\"p\"][0].append(gate)\n",
    "    circs[\"p\"][1].append(ts)\n",
    "    \n",
    "    gate, ts = gen_CD(1.0j*epsilon/2)\n",
    "    circs[\"p\"][0].append(gate)\n",
    "    circs[\"p\"][1].append(ts)\n",
    "    \n",
    "    resources = {}\n",
    "    A = jqt.tensor(jqt.displace(N, .35449077), I_q) # small init displacement\n",
    "    pGKP_plusz = jqt.tensor(basis[\"+z\"], jqt.basis(2,0))\n",
    "    resources[\"p0\"] = jqt.ket2dm(A @ pGKP_plusz)\n",
    "    return circs, resources"
   ]
  },
  {
   "cell_type": "code",
   "execution_count": 9,
   "id": "066c0e09-0df7-4e9d-b1e3-c3ba4b703ecc",
   "metadata": {},
   "outputs": [
    {
     "name": "stdout",
     "output_type": "stream",
     "text": [
      "First Run Time (s):  1.7302966117858887\n"
     ]
    }
   ],
   "source": [
    "start = time.time()\n",
    "sBs_circs, sBs_resources = gen_gates(GKP_params, GKP_basis)\n",
    "print(\"First Run Time (s): \", time.time() - start)"
   ]
  },
  {
   "cell_type": "code",
   "execution_count": 10,
   "id": "50f48bd0-f18e-49ea-9096-7170ac019ff0",
   "metadata": {},
   "outputs": [],
   "source": [
    "@jit\n",
    "def gate_step(gate, p0, H0, c_ops):\n",
    "    H1 = gate[0]\n",
    "    ts = gate[1]\n",
    "    \n",
    "    def H_func(rho, t, H0_val, H1_val, c_ops_val):\n",
    "        H = H0 + H1\n",
    "        rho_dot = -1.0j*(H @ rho - rho @ H)\n",
    "        return rho_dot\n",
    "    states = odeint(H_func, p0, ts, H0, H1, c_ops)\n",
    "    return states\n",
    "\n",
    "@jit\n",
    "def execute(circ, p0, H0, c_ops):\n",
    "    def execute_step(rho, gate):\n",
    "        states = gate_step(gate, rho, H0, c_ops)\n",
    "        return states[-1], states\n",
    "    num_gates = len(circ)\n",
    "    _, results = scan(execute_step, p0, (jnp.array(circ[0]),jnp.array(circ[1])))#jnp.arange(num_gates), length=num_gates)\n",
    "    return results"
   ]
  },
  {
   "cell_type": "code",
   "execution_count": 69,
   "id": "225c8d88-12c0-4016-8545-ea93225405db",
   "metadata": {},
   "outputs": [],
   "source": [
    "@jit\n",
    "def test(p0, _):\n",
    "    N_size = 50\n",
    "    H1 = jqt.num(N_size) + 0.0j\n",
    "    ts = jnp.linspace(0, 1, 101)\n",
    "    gate = (H1, ts)\n",
    "    H0 = jqt.destroy(N_size) + jqt.create(N_size) + 0.0j\n",
    "    c_ops = jnp.array([])\n",
    "    results = gate_step(gate, p0, H0, c_ops)\n",
    "    return results[-1], results\n",
    "\n",
    "@jit\n",
    "def test_multi(p0):\n",
    "    return scan(test, p0, None, length=100)"
   ]
  },
  {
   "cell_type": "code",
   "execution_count": 70,
   "id": "7eee9750-3f59-443d-8faa-d5e1361629d4",
   "metadata": {},
   "outputs": [],
   "source": [
    "p0 = jqt.ket2dm(jqt.coherent(50,20))"
   ]
  },
  {
   "cell_type": "code",
   "execution_count": 71,
   "id": "2b4fdcd2-0018-4484-aa87-efedca1fff0d",
   "metadata": {},
   "outputs": [
    {
     "name": "stdout",
     "output_type": "stream",
     "text": [
      "862 ms ± 0 ns per loop (mean ± std. dev. of 1 run, 1 loop each)\n",
      "67.4 ms ± 1.19 ms per loop (mean ± std. dev. of 7 runs, 10 loops each)\n"
     ]
    }
   ],
   "source": [
    "%timeit -n1 -r1 test(p0 + 0.0j, None)\n",
    "%timeit test(p0 + 0.0j, None)"
   ]
  },
  {
   "cell_type": "code",
   "execution_count": 82,
   "id": "c1e45993-c9d4-40cc-94ad-d90c78064a06",
   "metadata": {},
   "outputs": [],
   "source": [
    "@jit\n",
    "def tg(a):\n",
    "    return jnp.real(test(a*p0 + 0.0j, None)[0][0][0])"
   ]
  },
  {
   "cell_type": "code",
   "execution_count": 83,
   "id": "c194cbc1-a040-4042-8b9f-571d69f68523",
   "metadata": {},
   "outputs": [
    {
     "name": "stdout",
     "output_type": "stream",
     "text": [
      "2.86 s ± 0 ns per loop (mean ± std. dev. of 1 run, 1 loop each)\n",
      "1.22 s ± 325 ms per loop (mean ± std. dev. of 7 runs, 1 loop each)\n"
     ]
    }
   ],
   "source": [
    "%timeit -n1 -r1 grad(tg)(1.0)\n",
    "%timeit grad(tg)(1.0)"
   ]
  },
  {
   "cell_type": "code",
   "execution_count": 72,
   "id": "5431aefc-d703-4824-8023-fd4db234c948",
   "metadata": {},
   "outputs": [
    {
     "name": "stdout",
     "output_type": "stream",
     "text": [
      "7.5 s ± 0 ns per loop (mean ± std. dev. of 1 run, 1 loop each)\n",
      "6.89 s ± 435 ms per loop (mean ± std. dev. of 7 runs, 1 loop each)\n"
     ]
    }
   ],
   "source": [
    "%timeit -n1 -r1 test_multi(p0 + 0.0j)\n",
    "%timeit test_multi(p0 + 0.0j)"
   ]
  },
  {
   "cell_type": "code",
   "execution_count": 59,
   "id": "66c32cbe-fc40-49c1-8aaa-ac50496f9fbf",
   "metadata": {},
   "outputs": [
    {
     "name": "stdout",
     "output_type": "stream",
     "text": [
      "347 ms ± 0 ns per loop (mean ± std. dev. of 1 run, 1 loop each)\n"
     ]
    }
   ],
   "source": [
    "%timeit -n1 -r1 test_multi(p0 + 0.0j)"
   ]
  },
  {
   "cell_type": "code",
   "execution_count": 33,
   "id": "3214fa98-2205-4484-9a75-452a4f979045",
   "metadata": {},
   "outputs": [
    {
     "name": "stdout",
     "output_type": "stream",
     "text": [
      "65.9 ms ± 1.55 ms per loop (mean ± std. dev. of 7 runs, 10 loops each)\n"
     ]
    }
   ],
   "source": [
    "%timeit test(p0 + 0.0j)"
   ]
  },
  {
   "cell_type": "code",
   "execution_count": 11,
   "id": "ff905004-c5c7-49cf-b5e2-e2405a6947f4",
   "metadata": {},
   "outputs": [],
   "source": [
    "@jit\n",
    "def run_sBs(circs, resources, GKP_gates, H0, c_ops):\n",
    "    single_qubit_g = jqt.ket2dm(jqt.basis(2,0))\n",
    "    plus = jqt.ket2dm(1 / jnp.sqrt(2) * (jqt.basis(2, 0) + jqt.basis(2, 1)))\n",
    "    meas_ops = jnp.array([GKP_gates[\"X\"], GKP_gates[\"Y\"], GKP_gates[\"Z\"]])\n",
    "    rho = resources[\"p0\"]\n",
    "    trace_dims = (N,2)        \n",
    "    \n",
    "    def sBs_stabilize_meas(rho_i):\n",
    "        def measure_logical(M):\n",
    "            return jqt.tr(M @ jqt.ptrace(rho_i, 0, trace_dims))\n",
    "        return vmap(measure_logical)(meas_ops)\n",
    "    \n",
    "    def sBs_stabilize_circ(rho_i):\n",
    "        results = execute(circs[\"x\"], jqt.tensor(jqt.ptrace(rho_i, 0, trace_dims), plus), H0, c_ops) \n",
    "        rho_i = results[-1][-1]\n",
    "        results = execute(circs[\"p\"], jqt.tensor(jqt.ptrace(rho_i, 0, trace_dims), plus), H0, c_ops) \n",
    "        rho_i = results[-1][-1]\n",
    "        return rho_i\n",
    "        \n",
    "    def run_sBs_round(rho_i, _ ):\n",
    "        meas_result = sBs_stabilize_meas(rho_i)\n",
    "        rho_i = sBs_stabilize_circ(rho_i)\n",
    "        return rho_i, meas_result\n",
    "        \n",
    "    _, meas_results = scan(run_sBs_round, rho, None, length=N_rounds)\n",
    "    return meas_results"
   ]
  },
  {
   "cell_type": "code",
   "execution_count": 12,
   "id": "126543cb-9f12-4a82-b61e-417dbd04a19e",
   "metadata": {},
   "outputs": [
    {
     "name": "stdout",
     "output_type": "stream",
     "text": [
      "First Run Time (s):  13.40997314453125\n"
     ]
    }
   ],
   "source": [
    "start = time.time()\n",
    "sBs_meas_results = run_sBs(sBs_circs, sBs_resources, GKP_gates, 0.0, jnp.array([]))\n",
    "print(\"First Run Time (s): \", time.time() - start)"
   ]
  },
  {
   "cell_type": "code",
   "execution_count": 13,
   "id": "b7b44451-a4ba-4040-a6b7-a44801c146fa",
   "metadata": {},
   "outputs": [
    {
     "name": "stdout",
     "output_type": "stream",
     "text": [
      "11.2 s ± 530 ms per loop (mean ± std. dev. of 7 runs, 1 loop each)\n"
     ]
    }
   ],
   "source": [
    "%timeit run_sBs(sBs_circs, sBs_resources, GKP_gates, 0.0, jnp.array([]))"
   ]
  },
  {
   "cell_type": "code",
   "execution_count": 14,
   "id": "d48fd52b-41bd-4cf0-a911-fc20b54c7de3",
   "metadata": {},
   "outputs": [
    {
     "data": {
      "image/png": "[encoded data removed]",
      "text/plain": [
       "<Figure size 1200x800 with 1 Axes>"
      ]
     },
     "metadata": {},
     "output_type": "display_data"
    }
   ],
   "source": [
    "plt.figure(\"logicals\", dpi=200)\n",
    "plt.clf()\n",
    "plt.axhline(0.893, linestyle=\"dashed\", color=\"lightgray\", label=\"0.893\")\n",
    "plt.plot(np.abs(np.real(sBs_meas_results[:, 2])), '.-', label=r\"Logical $\\langle Z_L \\rangle$\")\n",
    "plt.ylim(0, 1.01)\n",
    "plt.title(fr\"Hamiltonian Simulation: $|\\psi_0\\rangle = D\\left(\\ell/10\\right)|0_L\\rangle$\", fontsize=14)\n",
    "plt.legend(loc='lower right', fontsize=13)\n",
    "plt.xlabel(\"# stabilizations\", fontsize=14)\n",
    "plt.xticks(np.arange(0, 20, 2), fontsize=14)\n",
    "plt.yticks(fontsize=14)\n",
    "plt.ylabel(r\"|Re. $\\langle Z_L \\rangle$|\", fontsize=14)\n",
    "plt.tight_layout()\n",
    "plt.show()"
   ]
  },
  {
   "cell_type": "code",
   "execution_count": 17,
   "id": "bc225ef1-8ba2-41ee-91ea-a5b1407779ae",
   "metadata": {},
   "outputs": [
    {
     "name": "stdout",
     "output_type": "stream",
     "text": [
      "First Run Time (s):  12.708683967590332\n"
     ]
    }
   ],
   "source": [
    "start = time.time()\n",
    "sBs_meas_results = jit(run_sBs)(sBs_circs, sBs_resources, GKP_gates, 0.0, jnp.array([]))\n",
    "print(\"First Run Time (s): \", time.time() - start)"
   ]
  },
  {
   "cell_type": "markdown",
   "id": "c906ec41-e0b6-4d0a-b1c2-53eb02490d16",
   "metadata": {},
   "source": [
    "# Testing"
   ]
  },
  {
   "cell_type": "code",
   "execution_count": null,
   "id": "ccc2a77a-466f-4418-9e59-7d631a9618cc",
   "metadata": {},
   "outputs": [],
   "source": [
    "f = jit(gen_GKP_basis_states)\n",
    "\n",
    "@jit\n",
    "def test():\n",
    "    for i in range(5):\n",
    "        gen_GKP_basis_states(0.25)\n",
    "\n",
    "@jit\n",
    "def test2():\n",
    "    for i in range(5):\n",
    "        f(0.25)\n",
    "        \n",
    "\n",
    "def test3():\n",
    "    for i in range(5):\n",
    "        f(0.25)\n",
    "    \n",
    "@jit\n",
    "def test4():\n",
    "    deltas = jnp.ones(5)*.25\n",
    "    vmap(gen_GKP_basis_states)(deltas)\n",
    "    \n",
    "@jit\n",
    "def test5():\n",
    "    deltas = jnp.ones(5)*.25\n",
    "    vmap(f)(deltas)\n",
    "    \n",
    "def test6():\n",
    "    deltas = jnp.ones(5)*.25\n",
    "    vmap(f)(deltas)\n",
    "    "
   ]
  },
  {
   "cell_type": "code",
   "execution_count": null,
   "id": "1718ea2d-0998-44bc-8b68-ba1f64b956d2",
   "metadata": {},
   "outputs": [
    {
     "name": "stdout",
     "output_type": "stream",
     "text": [
      "First Run Time (s):  20.021356105804443\n"
     ]
    }
   ],
   "source": [
    "start = time.time()\n",
    "test()\n",
    "print(\"First Run Time (s): \", time.time() - start)"
   ]
  },
  {
   "cell_type": "code",
   "execution_count": 52,
   "id": "60164cdb-552b-425d-a1e0-f61a3db91b8e",
   "metadata": {},
   "outputs": [
    {
     "name": "stdout",
     "output_type": "stream",
     "text": [
      "First Run Time (s):  13.540022134780884\n"
     ]
    }
   ],
   "source": [
    "start = time.time()\n",
    "test3()\n",
    "print(\"First Run Time (s): \", time.time() - start)"
   ]
  },
  {
   "cell_type": "code",
   "execution_count": 53,
   "id": "5ea8387b-efcc-43d9-87c6-5ff9c370e5f0",
   "metadata": {},
   "outputs": [
    {
     "name": "stdout",
     "output_type": "stream",
     "text": [
      "First Run Time (s):  20.538008213043213\n"
     ]
    }
   ],
   "source": [
    "start = time.time()\n",
    "test2()\n",
    "print(\"First Run Time (s): \", time.time() - start)"
   ]
  },
  {
   "cell_type": "code",
   "execution_count": 56,
   "id": "01435ed7-482c-4373-b6be-9efa5b4cdea8",
   "metadata": {},
   "outputs": [
    {
     "name": "stdout",
     "output_type": "stream",
     "text": [
      "First Run Time (s):  4.295015811920166\n"
     ]
    }
   ],
   "source": [
    "start = time.time()\n",
    "test4()\n",
    "print(\"First Run Time (s): \", time.time() - start)"
   ]
  },
  {
   "cell_type": "code",
   "execution_count": 57,
   "id": "33091928-12ae-41df-bf7b-72fbfbfe69da",
   "metadata": {},
   "outputs": [
    {
     "name": "stdout",
     "output_type": "stream",
     "text": [
      "First Run Time (s):  4.043358087539673\n"
     ]
    }
   ],
   "source": [
    "start = time.time()\n",
    "test5()\n",
    "print(\"First Run Time (s): \", time.time() - start)"
   ]
  },
  {
   "cell_type": "code",
   "execution_count": null,
   "id": "542afa51-e329-4890-a21d-84e5fd1d3242",
   "metadata": {},
   "outputs": [
    {
     "name": "stdout",
     "output_type": "stream",
     "text": [
      "First Run Time (s):  27.728702068328857\n"
     ]
    }
   ],
   "source": [
    "start = time.time()\n",
    "test6()\n",
    "print(\"First Run Time (s): \", time.time() - start)"
   ]
  },
  {
   "cell_type": "code",
   "execution_count": null,
   "id": "3fa02029-6652-4a6f-8bce-d851bda8c093",
   "metadata": {},
   "outputs": [],
   "source": []
  }
 ],
 "metadata": {
  "kernelspec": {
   "display_name": "Python 3 (ipykernel)",
   "language": "python",
   "name": "python3"
  },
  "language_info": {
   "codemirror_mode": {
    "name": "ipython",
    "version": 3
   },
   "file_extension": ".py",
   "mimetype": "text/x-python",
   "name": "python",
   "nbconvert_exporter": "python",
   "pygments_lexer": "ipython3",
   "version": "3.10.4"
  }
 },
 "nbformat": 4,
 "nbformat_minor": 5
}
