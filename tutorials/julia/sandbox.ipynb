{
 "cells": [
  {
   "cell_type": "code",
   "execution_count": 7,
   "id": "350cadbc-1474-45b3-9ea6-fc44f1aadfe3",
   "metadata": {},
   "outputs": [],
   "source": [
    "using ForwardDiff\n",
    "using DifferentialEquations\n",
    "const DE = DifferentialEquations\n",
    "using Zygote\n",
    "using DiffEqSensitivity\n",
    "using PyPlot\n",
    "using CUDA\n",
    "using LinearAlgebra"
   ]
  },
  {
   "cell_type": "code",
   "execution_count": 75,
   "id": "86a0a307-825f-4f25-9d0f-c741675e9fd6",
   "metadata": {},
   "outputs": [
    {
     "data": {
      "text/plain": [
       "#17 (generic function with 1 method)"
      ]
     },
     "execution_count": 75,
     "metadata": {},
     "output_type": "execute_result"
    }
   ],
   "source": [
    "function f(a)\n",
    "    A = a*[.1 2; .3 .4]\n",
    "    b = [1/sqrt(2); 1/sqrt(2)]\n",
    "    for i=1:100\n",
    "        b = A*b\n",
    "    end\n",
    "    return b[1]\n",
    "end     \n",
    "f_grad = x -> ForwardDiff.derivative(f,x)"
   ]
  },
  {
   "cell_type": "code",
   "execution_count": 59,
   "id": "132b3e75-f986-4b8f-9a2b-5fc3695e785d",
   "metadata": {},
   "outputs": [
    {
     "name": "stdout",
     "output_type": "stream",
     "text": [
      "  10.124 ms (154024 allocations: 18.81 MiB)\n"
     ]
    }
   ],
   "source": [
    "function pi_pulse_julia(ω_d)\n",
    "    ω_q = 5.0; Ω = .1\n",
    "    H0 = ω_q/2.0*[1 0; 0 -1] .+ 0.0*im; H1 = Ω*[0 1; 1 0] .+ 0.0*im\n",
    "    ψᵢ = [1 0; 0 0] .+ 0.0*im\n",
    "    tf = π/Ω\n",
    "    \n",
    "    function ρ_dot(ρ, p, t)\n",
    "        fac = cos(ω_d*t)\n",
    "        H = H0 + H1*fac\n",
    "        dρ = -1.0*im * (H * ρ)\n",
    "        dρ += -1.0*im * (-ρ * H)\n",
    "        return dρ\n",
    "    end\n",
    "    \n",
    "    prob = DE.ODEProblem(ρ_dot, ψᵢ, (0,tf))\n",
    "    sol = DE.solve(prob, Tsit5(); reltol=1e-8, abstol=1e-8)\n",
    "    return sol\n",
    "end\n",
    "\n",
    "@btime results = pi_pulse_julia(5.0);"
   ]
  },
  {
   "cell_type": "code",
   "execution_count": null,
   "id": "d15ff5bc-48dd-4e84-9121-ca47d62e347c",
   "metadata": {},
   "outputs": [],
   "source": [
    "using BenchmarkTools"
   ]
  },
  {
   "cell_type": "code",
   "execution_count": 27,
   "id": "9bff132f-f5f2-4625-b624-d8f7c419ced3",
   "metadata": {},
   "outputs": [
    {
     "data": {
      "text/plain": [
       "retcode: Success\n",
       "Interpolation: 1st order linear\n",
       "t: 131670-element Vector{Float64}:\n",
       "    0.0\n",
       "    0.005000000000000001\n",
       "    0.010344633659463654\n",
       "    0.01619847574422298\n",
       "    0.022344232061996535\n",
       "    0.02881235563143842\n",
       "    0.035492729025985\n",
       "    0.04237475170780038\n",
       "    0.049399834238509494\n",
       "    0.05655002245053027\n",
       "    0.06379269375026475\n",
       "    0.07111254964928064\n",
       "    0.07849080044624362\n",
       "    ⋮\n",
       "  999.9223526005073\n",
       "  999.9299476242321\n",
       "  999.937542647655\n",
       "  999.9451376717822\n",
       "  999.9527326956076\n",
       "  999.9603277191311\n",
       "  999.9679227433588\n",
       "  999.9755177672848\n",
       "  999.983112790909\n",
       "  999.9907078152373\n",
       "  999.9983028392638\n",
       " 1000.0\n",
       "u: 131670-element Vector{Vector{ComplexF64}}:\n",
       " [1.0 + 0.0im, 1.5 + 0.0im]\n",
       " [0.5403022976485196 - 0.8414709729990841im, 0.8104534464727791 - 1.2622064594986262im]\n",
       " [-0.47778395896528436 - 0.8784773183456952im, -0.7166759384479265 - 1.3177159775185427im]\n",
       " [-0.9951916771173307 + 0.09794521574736847im, -1.492787515675996 + 0.14691782362105268im]\n",
       " [-0.24114204859261804 + 0.9704895440530028im, -0.36171307288892635 + 1.4557343160795038im]\n",
       " [0.8674636779370911 + 0.49749942681125753im, 1.3011955169056366 + 0.7462491402168866im]\n",
       " [0.6856052147933206 - 0.7279722770418503im, 1.028407822189981 - 1.0919584155627753im]\n",
       " [-0.5818227548967295 - 0.813313811345691im, -0.8727341323450943 - 1.2199707170185365im]\n",
       " [-0.8981758150343675 + 0.43963157807709946im, -1.3472637225515514 + 0.6594473671156488im]\n",
       " [0.30927459718105654 + 0.9509696568561042im, 0.4639118957715843 + 1.4264544852841563im]\n",
       " [0.981588363632788 - 0.19098805147926215im, 1.4723825454491823 - 0.28648207721889235im]\n",
       " [-0.08524066949940182 - 0.9963553697893701im, -0.12786100424910188 - 1.4945330546840554im]\n",
       " [-0.9999457882279553 - 0.0098008176745083im, -1.4999186823419333 - 0.01470122651176267im]\n",
       " ⋮\n",
       " [-0.7900461204770168 + 0.16151734710657092im, -1.185069180716008 + 0.2422760206600577im]\n",
       " [0.12040169978903788 + 0.7973468696498843im, 0.18060254968373246 + 1.1960203044753197im]\n",
       " [0.8025093629522462 - 0.07896325848057735im, 1.2037640444288704 - 0.11844488772101587im]\n",
       " [-0.037313310667431016 - 0.8055197481322174im, -0.05596996600126986 - 1.2082796221988341im]\n",
       " [-0.806369976024322 - 0.004436612047069592im, -1.209554964036996 - 0.006654918070507414im]\n",
       " [-0.04617454924567669 + 0.8050577660924392im, -0.0692618238684448 + 1.2075866491391758im]\n",
       " [0.8015866544618309 + 0.08778841108643916im, 1.2023799816932654 + 0.13168261662961522im]\n",
       " [0.12916676456411258 - 0.7959659481792765im, 0.19375014684615202 - 1.1939489222694353im]\n",
       " [-0.7882107197526674 - 0.17019864570636756im, -1.182316079629522 - 0.2552979685595606im]\n",
       " [-0.2107738627873479 + 0.7783418082745764im, -0.3161607941810572 + 1.167512712412384im]\n",
       " [0.766385652561852 + 0.25078376603524494im, 1.149578478843295 + 0.37617564905292894im]\n",
       " [0.8061575440689281 - 0.018694381510392183im, 1.2092363161039001 - 0.02804157226570232im]"
      ]
     },
     "execution_count": 27,
     "metadata": {},
     "output_type": "execute_result"
    }
   ],
   "source": [
    "function Eq(du,u,p,t)\n",
    "    E = 200.0\n",
    "    du[1] = -im * E * u[1]\n",
    "    du[2] = -im * E * u[2]\n",
    "end\n",
    "\n",
    "u = [1.0 + 0.0im, 1.5 + 0.0im]\n",
    "T = 1000.0\n",
    "prob = DE.ODEProblem(Eq, u, (0, T))\n",
    "sol = solve(prob; dense=false)"
   ]
  },
  {
   "cell_type": "code",
   "execution_count": 138,
   "id": "0ea38391-f540-4265-ba4d-2e9b739438fb",
   "metadata": {},
   "outputs": [
    {
     "data": {
      "text/plain": [
       "#69 (generic function with 1 method)"
      ]
     },
     "execution_count": 138,
     "metadata": {},
     "output_type": "execute_result"
    }
   ],
   "source": [
    "function f(a)\n",
    "    p0 = a\n",
    "    f(u,p,t) = p*u\n",
    "    u0 = 1\n",
    "    for i=1:100\n",
    "        tspan = ((i-1)/100,i/100)\n",
    "        prob = DE.ODEProblem(f,u0,tspan, p=p0)\n",
    "        tmp_prob = remake(prob, p=p0)\n",
    "        sol = DE.solve(tmp_prob, Tsit5(); reltol=1e-8, abstol=1e-8)\n",
    "        u0 = sol.u[end]\n",
    "    end\n",
    "    return u0\n",
    "end\n",
    "f_grad = x -> ForwardDiff.derivative(f,x)"
   ]
  },
  {
   "cell_type": "code",
   "execution_count": 139,
   "id": "dec6c087-98df-4108-bf9a-fc6ef6459f53",
   "metadata": {},
   "outputs": [
    {
     "name": "stdout",
     "output_type": "stream",
     "text": [
      "  1.227274 seconds (2.51 M allocations: 140.309 MiB, 4.15% gc time, 99.45% compilation time)\n"
     ]
    },
    {
     "data": {
      "text/plain": [
       "2.71828182845909"
      ]
     },
     "execution_count": 139,
     "metadata": {},
     "output_type": "execute_result"
    }
   ],
   "source": [
    "@time f_grad(1.0) "
   ]
  },
  {
   "cell_type": "code",
   "execution_count": 140,
   "id": "bcf4a799-41ed-4be0-ba11-92970b2cf38d",
   "metadata": {},
   "outputs": [
    {
     "name": "stdout",
     "output_type": "stream",
     "text": [
      "  0.006111 seconds (30.10 k allocations: 1.910 MiB)\n"
     ]
    },
    {
     "data": {
      "text/plain": [
       "2.71828182845909"
      ]
     },
     "execution_count": 140,
     "metadata": {},
     "output_type": "execute_result"
    }
   ],
   "source": [
    "@time f_grad(1.0)"
   ]
  },
  {
   "cell_type": "code",
   "execution_count": 213,
   "id": "03ed40af-7fa2-4871-994a-93c03f0aeee3",
   "metadata": {},
   "outputs": [
    {
     "data": {
      "text/plain": [
       "test3 (generic function with 1 method)"
      ]
     },
     "execution_count": 213,
     "metadata": {},
     "output_type": "execute_result"
    }
   ],
   "source": [
    "function test3(a)\n",
    "    p0 = a\n",
    "    f(u,p,t) = p*u\n",
    "    u0 = 0.0*im\n",
    "    for i=1:10\n",
    "        tspan = (0.0,2.0)\n",
    "        prob = DE.ODEProblem(f,u0,tspan, p=p0)\n",
    "        tmp_prob = remake(prob, p=p0)\n",
    "        sol = DE.solve(tmp_prob, Tsit5(); reltol=1e-8, abstol=1e-8)\n",
    "        u0 = sol.u[end]\n",
    "    end\n",
    "    return real(u0)\n",
    "end"
   ]
  },
  {
   "cell_type": "code",
   "execution_count": 214,
   "id": "97bd9896-46e4-4af6-babc-f9b5ae50c634",
   "metadata": {},
   "outputs": [
    {
     "data": {
      "text/plain": [
       "0.0"
      ]
     },
     "execution_count": 214,
     "metadata": {},
     "output_type": "execute_result"
    }
   ],
   "source": [
    "test3(1.0*im)"
   ]
  },
  {
   "cell_type": "code",
   "execution_count": 215,
   "id": "f9b6a51c-bdc1-44d4-aa7b-c92dc8f06a01",
   "metadata": {},
   "outputs": [
    {
     "data": {
      "text/plain": [
       "DF (generic function with 1 method)"
      ]
     },
     "execution_count": 215,
     "metadata": {},
     "output_type": "execute_result"
    }
   ],
   "source": [
    "DF(test3) = x -> Zygote.gradient(test3, x)"
   ]
  },
  {
   "cell_type": "code",
   "execution_count": 216,
   "id": "ba6088cf-6633-4d43-9dde-76f96a0c06ab",
   "metadata": {},
   "outputs": [
    {
     "ename": "LoadError",
     "evalue": "MethodError: no method matching similar(::Float64, ::Int64)\n\u001b[0mClosest candidates are:\n\u001b[0m  similar(\u001b[91m::PyCall.PyVector{T}\u001b[39m, ::Int64...) where T at ~/.julia/packages/PyCall/7a7w0/src/conversions.jl:268\n\u001b[0m  similar(\u001b[91m::PyCall.PyVector\u001b[39m, ::Any, \u001b[91m::Tuple{Vararg{Int64, N}} where N\u001b[39m) at ~/.julia/packages/PyCall/7a7w0/src/conversions.jl:265\n\u001b[0m  similar(\u001b[91m::ReverseDiff.TrackedArray\u001b[39m, ::Union{Integer, AbstractUnitRange}...) at ~/.julia/packages/ReverseDiff/Z4pL0/src/tracked.jl:387\n\u001b[0m  ...",
     "output_type": "error",
     "traceback": [
      "MethodError: no method matching similar(::Float64, ::Int64)\n\u001b[0mClosest candidates are:\n\u001b[0m  similar(\u001b[91m::PyCall.PyVector{T}\u001b[39m, ::Int64...) where T at ~/.julia/packages/PyCall/7a7w0/src/conversions.jl:268\n\u001b[0m  similar(\u001b[91m::PyCall.PyVector\u001b[39m, ::Any, \u001b[91m::Tuple{Vararg{Int64, N}} where N\u001b[39m) at ~/.julia/packages/PyCall/7a7w0/src/conversions.jl:265\n\u001b[0m  similar(\u001b[91m::ReverseDiff.TrackedArray\u001b[39m, ::Union{Integer, AbstractUnitRange}...) at ~/.julia/packages/ReverseDiff/Z4pL0/src/tracked.jl:387\n\u001b[0m  ...",
      "",
      "Stacktrace:",
      "  [1] ODEAdjointProblem(sol::ODESolution{ComplexF64, 1, Vector{ComplexF64}, Nothing, Nothing, Vector{Float64}, Vector{Vector{ComplexF64}}, ODEProblem{ComplexF64, Tuple{Float64, Float64}, false, Float64, ODEFunction{false, var\"#f#133\", UniformScaling{Bool}, Nothing, Nothing, Nothing, Nothing, Nothing, Nothing, Nothing, Nothing, Nothing, Nothing, Nothing, Nothing, typeof(SciMLBase.DEFAULT_OBSERVED), Nothing}, Base.Pairs{Symbol, Float64, Tuple{Symbol}, NamedTuple{(:p,), Tuple{Float64}}}, SciMLBase.StandardODEProblem}, Tsit5{typeof(OrdinaryDiffEq.trivial_limiter!), typeof(OrdinaryDiffEq.trivial_limiter!), Static.False}, OrdinaryDiffEq.InterpolationData{ODEFunction{false, var\"#f#133\", UniformScaling{Bool}, Nothing, Nothing, Nothing, Nothing, Nothing, Nothing, Nothing, Nothing, Nothing, Nothing, Nothing, Nothing, typeof(SciMLBase.DEFAULT_OBSERVED), Nothing}, Vector{ComplexF64}, Vector{Float64}, Vector{Vector{ComplexF64}}, OrdinaryDiffEq.Tsit5ConstantCache{Float64, Float64}}, DiffEqBase.DEStats}, sensealg::InterpolatingAdjoint{0, true, Val{:central}, ZygoteVJP, Bool}, g::DiffEqSensitivity.var\"#df#251\"{ODESolution{ComplexF64, 1, Vector{ComplexF64}, Nothing, Nothing, Vector{Float64}, Nothing, ODEProblem{ComplexF64, Tuple{Float64, Float64}, false, Float64, ODEFunction{false, var\"#f#133\", UniformScaling{Bool}, Nothing, Nothing, Nothing, Nothing, Nothing, Nothing, Nothing, Nothing, Nothing, Nothing, Nothing, Nothing, typeof(SciMLBase.DEFAULT_OBSERVED), Nothing}, Base.Pairs{Symbol, Float64, Tuple{Symbol}, NamedTuple{(:p,), Tuple{Float64}}}, SciMLBase.StandardODEProblem}, Tsit5{typeof(OrdinaryDiffEq.trivial_limiter!), typeof(OrdinaryDiffEq.trivial_limiter!), Static.False}, SciMLBase.LinearInterpolation{Vector{Float64}, Vector{ComplexF64}}, Nothing}, Colon}, t::Vector{Float64}, dg::Nothing; checkpoints::Vector{Float64}, callback::Nothing, reltol::Float64, abstol::Float64, kwargs::Base.Pairs{Symbol, Float64, Tuple{Symbol}, NamedTuple{(:p,), Tuple{Float64}}})",
      "    @ DiffEqSensitivity ~/.julia/packages/DiffEqSensitivity/T7LDZ/src/interpolating_adjoint.jl:257",
      "  [2] _adjoint_sensitivities(sol::ODESolution{ComplexF64, 1, Vector{ComplexF64}, Nothing, Nothing, Vector{Float64}, Vector{Vector{ComplexF64}}, ODEProblem{ComplexF64, Tuple{Float64, Float64}, false, Float64, ODEFunction{false, var\"#f#133\", UniformScaling{Bool}, Nothing, Nothing, Nothing, Nothing, Nothing, Nothing, Nothing, Nothing, Nothing, Nothing, Nothing, Nothing, typeof(SciMLBase.DEFAULT_OBSERVED), Nothing}, Base.Pairs{Symbol, Float64, Tuple{Symbol}, NamedTuple{(:p,), Tuple{Float64}}}, SciMLBase.StandardODEProblem}, Tsit5{typeof(OrdinaryDiffEq.trivial_limiter!), typeof(OrdinaryDiffEq.trivial_limiter!), Static.False}, OrdinaryDiffEq.InterpolationData{ODEFunction{false, var\"#f#133\", UniformScaling{Bool}, Nothing, Nothing, Nothing, Nothing, Nothing, Nothing, Nothing, Nothing, Nothing, Nothing, Nothing, Nothing, typeof(SciMLBase.DEFAULT_OBSERVED), Nothing}, Vector{ComplexF64}, Vector{Float64}, Vector{Vector{ComplexF64}}, OrdinaryDiffEq.Tsit5ConstantCache{Float64, Float64}}, DiffEqBase.DEStats}, sensealg::InterpolatingAdjoint{0, true, Val{:central}, ZygoteVJP, Bool}, alg::Tsit5{typeof(OrdinaryDiffEq.trivial_limiter!), typeof(OrdinaryDiffEq.trivial_limiter!), Static.False}, g::DiffEqSensitivity.var\"#df#251\"{ODESolution{ComplexF64, 1, Vector{ComplexF64}, Nothing, Nothing, Vector{Float64}, Nothing, ODEProblem{ComplexF64, Tuple{Float64, Float64}, false, Float64, ODEFunction{false, var\"#f#133\", UniformScaling{Bool}, Nothing, Nothing, Nothing, Nothing, Nothing, Nothing, Nothing, Nothing, Nothing, Nothing, Nothing, Nothing, typeof(SciMLBase.DEFAULT_OBSERVED), Nothing}, Base.Pairs{Symbol, Float64, Tuple{Symbol}, NamedTuple{(:p,), Tuple{Float64}}}, SciMLBase.StandardODEProblem}, Tsit5{typeof(OrdinaryDiffEq.trivial_limiter!), typeof(OrdinaryDiffEq.trivial_limiter!), Static.False}, SciMLBase.LinearInterpolation{Vector{Float64}, Vector{ComplexF64}}, Nothing}, Colon}, t::Vector{Float64}, dg::Nothing; abstol::Float64, reltol::Float64, checkpoints::Vector{Float64}, corfunc_analytical::Nothing, callback::Nothing, kwargs::Base.Pairs{Symbol, Float64, Tuple{Symbol}, NamedTuple{(:p,), Tuple{Float64}}})",
      "    @ DiffEqSensitivity ~/.julia/packages/DiffEqSensitivity/T7LDZ/src/sensitivity_interface.jl:17",
      "  [3] adjoint_sensitivities(::ODESolution{ComplexF64, 1, Vector{ComplexF64}, Nothing, Nothing, Vector{Float64}, Vector{Vector{ComplexF64}}, ODEProblem{ComplexF64, Tuple{Float64, Float64}, false, Float64, ODEFunction{false, var\"#f#133\", UniformScaling{Bool}, Nothing, Nothing, Nothing, Nothing, Nothing, Nothing, Nothing, Nothing, Nothing, Nothing, Nothing, Nothing, typeof(SciMLBase.DEFAULT_OBSERVED), Nothing}, Base.Pairs{Symbol, Float64, Tuple{Symbol}, NamedTuple{(:p,), Tuple{Float64}}}, SciMLBase.StandardODEProblem}, Tsit5{typeof(OrdinaryDiffEq.trivial_limiter!), typeof(OrdinaryDiffEq.trivial_limiter!), Static.False}, OrdinaryDiffEq.InterpolationData{ODEFunction{false, var\"#f#133\", UniformScaling{Bool}, Nothing, Nothing, Nothing, Nothing, Nothing, Nothing, Nothing, Nothing, Nothing, Nothing, Nothing, Nothing, typeof(SciMLBase.DEFAULT_OBSERVED), Nothing}, Vector{ComplexF64}, Vector{Float64}, Vector{Vector{ComplexF64}}, OrdinaryDiffEq.Tsit5ConstantCache{Float64, Float64}}, DiffEqBase.DEStats}, ::Tsit5{typeof(OrdinaryDiffEq.trivial_limiter!), typeof(OrdinaryDiffEq.trivial_limiter!), Static.False}, ::Vararg{Any}; sensealg::InterpolatingAdjoint{0, true, Val{:central}, ZygoteVJP, Bool}, kwargs::Base.Pairs{Symbol, Union{Nothing, Float64}, NTuple{4, Symbol}, NamedTuple{(:callback, :p, :reltol, :abstol), Tuple{Nothing, Float64, Float64, Float64}}})",
      "    @ DiffEqSensitivity ~/.julia/packages/DiffEqSensitivity/T7LDZ/src/sensitivity_interface.jl:6",
      "  [4] (::DiffEqSensitivity.var\"#adjoint_sensitivity_backpass#250\"{Base.Pairs{Symbol, Float64, Tuple{Symbol, Symbol, Symbol}, NamedTuple{(:p, :reltol, :abstol), Tuple{Float64, Float64, Float64}}}, Tsit5{typeof(OrdinaryDiffEq.trivial_limiter!), typeof(OrdinaryDiffEq.trivial_limiter!), Static.False}, InterpolatingAdjoint{0, true, Val{:central}, ZygoteVJP, Bool}, ComplexF64, Float64, Tuple{}, Colon, NamedTuple{(:p, :reltol, :abstol), Tuple{Float64, Float64, Float64}}})(Δ::ODESolution{ComplexF64, 1, Vector{ComplexF64}, Nothing, Nothing, Vector{Float64}, Nothing, ODEProblem{ComplexF64, Tuple{Float64, Float64}, false, Float64, ODEFunction{false, var\"#f#133\", UniformScaling{Bool}, Nothing, Nothing, Nothing, Nothing, Nothing, Nothing, Nothing, Nothing, Nothing, Nothing, Nothing, Nothing, typeof(SciMLBase.DEFAULT_OBSERVED), Nothing}, Base.Pairs{Symbol, Float64, Tuple{Symbol}, NamedTuple{(:p,), Tuple{Float64}}}, SciMLBase.StandardODEProblem}, Tsit5{typeof(OrdinaryDiffEq.trivial_limiter!), typeof(OrdinaryDiffEq.trivial_limiter!), Static.False}, SciMLBase.LinearInterpolation{Vector{Float64}, Vector{ComplexF64}}, Nothing})",
      "    @ DiffEqSensitivity ~/.julia/packages/DiffEqSensitivity/T7LDZ/src/concrete_solve.jl:249",
      "  [5] ZBack",
      "    @ ~/.julia/packages/Zygote/ytjqm/src/compiler/chainrules.jl:205 [inlined]",
      "  [6] (::Zygote.var\"#kw_zpullback#41\"{DiffEqSensitivity.var\"#adjoint_sensitivity_backpass#250\"{Base.Pairs{Symbol, Float64, Tuple{Symbol, Symbol, Symbol}, NamedTuple{(:p, :reltol, :abstol), Tuple{Float64, Float64, Float64}}}, Tsit5{typeof(OrdinaryDiffEq.trivial_limiter!), typeof(OrdinaryDiffEq.trivial_limiter!), Static.False}, InterpolatingAdjoint{0, true, Val{:central}, ZygoteVJP, Bool}, ComplexF64, Float64, Tuple{}, Colon, NamedTuple{(:p, :reltol, :abstol), Tuple{Float64, Float64, Float64}}}})(dy::ODESolution{ComplexF64, 1, Vector{ComplexF64}, Nothing, Nothing, Vector{Float64}, Nothing, ODEProblem{ComplexF64, Tuple{Float64, Float64}, false, Float64, ODEFunction{false, var\"#f#133\", UniformScaling{Bool}, Nothing, Nothing, Nothing, Nothing, Nothing, Nothing, Nothing, Nothing, Nothing, Nothing, Nothing, Nothing, typeof(SciMLBase.DEFAULT_OBSERVED), Nothing}, Base.Pairs{Symbol, Float64, Tuple{Symbol}, NamedTuple{(:p,), Tuple{Float64}}}, SciMLBase.StandardODEProblem}, Tsit5{typeof(OrdinaryDiffEq.trivial_limiter!), typeof(OrdinaryDiffEq.trivial_limiter!), Static.False}, SciMLBase.LinearInterpolation{Vector{Float64}, Vector{ComplexF64}}, Nothing})",
      "    @ Zygote ~/.julia/packages/Zygote/ytjqm/src/compiler/chainrules.jl:231",
      "  [7] #212",
      "    @ ~/.julia/packages/Zygote/ytjqm/src/lib/lib.jl:203 [inlined]",
      "  [8] (::Zygote.var\"#1750#back#214\"{Zygote.var\"#212#213\"{Tuple{NTuple{6, Nothing}, Tuple{Nothing}}, Zygote.var\"#kw_zpullback#41\"{DiffEqSensitivity.var\"#adjoint_sensitivity_backpass#250\"{Base.Pairs{Symbol, Float64, Tuple{Symbol, Symbol, Symbol}, NamedTuple{(:p, :reltol, :abstol), Tuple{Float64, Float64, Float64}}}, Tsit5{typeof(OrdinaryDiffEq.trivial_limiter!), typeof(OrdinaryDiffEq.trivial_limiter!), Static.False}, InterpolatingAdjoint{0, true, Val{:central}, ZygoteVJP, Bool}, ComplexF64, Float64, Tuple{}, Colon, NamedTuple{(:p, :reltol, :abstol), Tuple{Float64, Float64, Float64}}}}}})(Δ::ODESolution{ComplexF64, 1, Vector{ComplexF64}, Nothing, Nothing, Vector{Float64}, Nothing, ODEProblem{ComplexF64, Tuple{Float64, Float64}, false, Float64, ODEFunction{false, var\"#f#133\", UniformScaling{Bool}, Nothing, Nothing, Nothing, Nothing, Nothing, Nothing, Nothing, Nothing, Nothing, Nothing, Nothing, Nothing, typeof(SciMLBase.DEFAULT_OBSERVED), Nothing}, Base.Pairs{Symbol, Float64, Tuple{Symbol}, NamedTuple{(:p,), Tuple{Float64}}}, SciMLBase.StandardODEProblem}, Tsit5{typeof(OrdinaryDiffEq.trivial_limiter!), typeof(OrdinaryDiffEq.trivial_limiter!), Static.False}, SciMLBase.LinearInterpolation{Vector{Float64}, Vector{ComplexF64}}, Nothing})",
      "    @ Zygote ~/.julia/packages/ZygoteRules/AIbCs/src/adjoint.jl:67",
      "  [9] Pullback",
      "    @ ~/.julia/packages/DiffEqBase/ziNGu/src/solve.jl:165 [inlined]",
      " [10] (::typeof(∂(#solve#40)))(Δ::ODESolution{ComplexF64, 1, Vector{ComplexF64}, Nothing, Nothing, Vector{Float64}, Nothing, ODEProblem{ComplexF64, Tuple{Float64, Float64}, false, Float64, ODEFunction{false, var\"#f#133\", UniformScaling{Bool}, Nothing, Nothing, Nothing, Nothing, Nothing, Nothing, Nothing, Nothing, Nothing, Nothing, Nothing, Nothing, typeof(SciMLBase.DEFAULT_OBSERVED), Nothing}, Base.Pairs{Symbol, Float64, Tuple{Symbol}, NamedTuple{(:p,), Tuple{Float64}}}, SciMLBase.StandardODEProblem}, Tsit5{typeof(OrdinaryDiffEq.trivial_limiter!), typeof(OrdinaryDiffEq.trivial_limiter!), Static.False}, SciMLBase.LinearInterpolation{Vector{Float64}, Vector{ComplexF64}}, Nothing})",
      "    @ Zygote ~/.julia/packages/Zygote/ytjqm/src/compiler/interface2.jl:0",
      " [11] (::Zygote.var\"#212#213\"{Tuple{NTuple{7, Nothing}, Tuple{Nothing}}, typeof(∂(#solve#40))})(Δ::ODESolution{ComplexF64, 1, Vector{ComplexF64}, Nothing, Nothing, Vector{Float64}, Nothing, ODEProblem{ComplexF64, Tuple{Float64, Float64}, false, Float64, ODEFunction{false, var\"#f#133\", UniformScaling{Bool}, Nothing, Nothing, Nothing, Nothing, Nothing, Nothing, Nothing, Nothing, Nothing, Nothing, Nothing, Nothing, typeof(SciMLBase.DEFAULT_OBSERVED), Nothing}, Base.Pairs{Symbol, Float64, Tuple{Symbol}, NamedTuple{(:p,), Tuple{Float64}}}, SciMLBase.StandardODEProblem}, Tsit5{typeof(OrdinaryDiffEq.trivial_limiter!), typeof(OrdinaryDiffEq.trivial_limiter!), Static.False}, SciMLBase.LinearInterpolation{Vector{Float64}, Vector{ComplexF64}}, Nothing})",
      "    @ Zygote ~/.julia/packages/Zygote/ytjqm/src/lib/lib.jl:203",
      " [12] (::Zygote.var\"#1750#back#214\"{Zygote.var\"#212#213\"{Tuple{NTuple{7, Nothing}, Tuple{Nothing}}, typeof(∂(#solve#40))}})(Δ::ODESolution{ComplexF64, 1, Vector{ComplexF64}, Nothing, Nothing, Vector{Float64}, Nothing, ODEProblem{ComplexF64, Tuple{Float64, Float64}, false, Float64, ODEFunction{false, var\"#f#133\", UniformScaling{Bool}, Nothing, Nothing, Nothing, Nothing, Nothing, Nothing, Nothing, Nothing, Nothing, Nothing, Nothing, Nothing, typeof(SciMLBase.DEFAULT_OBSERVED), Nothing}, Base.Pairs{Symbol, Float64, Tuple{Symbol}, NamedTuple{(:p,), Tuple{Float64}}}, SciMLBase.StandardODEProblem}, Tsit5{typeof(OrdinaryDiffEq.trivial_limiter!), typeof(OrdinaryDiffEq.trivial_limiter!), Static.False}, SciMLBase.LinearInterpolation{Vector{Float64}, Vector{ComplexF64}}, Nothing})",
      "    @ Zygote ~/.julia/packages/ZygoteRules/AIbCs/src/adjoint.jl:67",
      " [13] Pullback",
      "    @ ~/.julia/packages/DiffEqBase/ziNGu/src/solve.jl:159 [inlined]",
      " [14] (::typeof(∂(solve##kw)))(Δ::ODESolution{ComplexF64, 1, Vector{ComplexF64}, Nothing, Nothing, Vector{Float64}, Nothing, ODEProblem{ComplexF64, Tuple{Float64, Float64}, false, Float64, ODEFunction{false, var\"#f#133\", UniformScaling{Bool}, Nothing, Nothing, Nothing, Nothing, Nothing, Nothing, Nothing, Nothing, Nothing, Nothing, Nothing, Nothing, typeof(SciMLBase.DEFAULT_OBSERVED), Nothing}, Base.Pairs{Symbol, Float64, Tuple{Symbol}, NamedTuple{(:p,), Tuple{Float64}}}, SciMLBase.StandardODEProblem}, Tsit5{typeof(OrdinaryDiffEq.trivial_limiter!), typeof(OrdinaryDiffEq.trivial_limiter!), Static.False}, SciMLBase.LinearInterpolation{Vector{Float64}, Vector{ComplexF64}}, Nothing})",
      "    @ Zygote ~/.julia/packages/Zygote/ytjqm/src/compiler/interface2.jl:0",
      " [15] Pullback",
      "    @ ./In[213]:9 [inlined]",
      " [16] (::typeof(∂(test3)))(Δ::Float64)",
      "    @ Zygote ~/.julia/packages/Zygote/ytjqm/src/compiler/interface2.jl:0",
      " [17] (::Zygote.var\"#56#57\"{typeof(∂(test3))})(Δ::Float64)",
      "    @ Zygote ~/.julia/packages/Zygote/ytjqm/src/compiler/interface.jl:41",
      " [18] gradient(f::Function, args::Float64)",
      "    @ Zygote ~/.julia/packages/Zygote/ytjqm/src/compiler/interface.jl:76",
      " [19] (::var\"#134#135\"{typeof(test3)})(x::Float64)",
      "    @ Main ./In[215]:1",
      " [20] top-level scope",
      "    @ In[216]:1",
      " [21] eval",
      "    @ ./boot.jl:373 [inlined]",
      " [22] include_string(mapexpr::typeof(REPL.softscope), mod::Module, code::String, filename::String)",
      "    @ Base ./loading.jl:1196"
     ]
    }
   ],
   "source": [
    "DF(test3)(1.0)"
   ]
  },
  {
   "cell_type": "markdown",
   "id": "feb7f0c6-7161-4354-b05e-e9901bb7688b",
   "metadata": {
    "tags": []
   },
   "source": [
    "# Playground"
   ]
  },
  {
   "cell_type": "code",
   "execution_count": 6,
   "id": "e9b98eb9-e83f-42ed-9834-ddfb209facaa",
   "metadata": {},
   "outputs": [
    {
     "data": {
      "text/plain": [
       "#6 (generic function with 1 method)"
      ]
     },
     "execution_count": 6,
     "metadata": {},
     "output_type": "execute_result"
    }
   ],
   "source": [
    "f = x -> x^2"
   ]
  },
  {
   "cell_type": "code",
   "execution_count": 10,
   "id": "339f8f48-c664-4fde-bdb0-065011ce6be1",
   "metadata": {},
   "outputs": [
    {
     "name": "stdout",
     "output_type": "stream",
     "text": [
      "  0.000012 seconds\n"
     ]
    },
    {
     "data": {
      "text/plain": [
       "24"
      ]
     },
     "execution_count": 10,
     "metadata": {},
     "output_type": "execute_result"
    }
   ],
   "source": [
    "@time DF(f)(12)"
   ]
  },
  {
   "cell_type": "code",
   "execution_count": 152,
   "id": "0c7cd9bc-c299-4a4f-91bb-2a1785da7188",
   "metadata": {},
   "outputs": [
    {
     "data": {
      "text/plain": [
       "test3 (generic function with 1 method)"
      ]
     },
     "execution_count": 172,
     "metadata": {},
     "output_type": "execute_result"
    }
   ],
   "source": []
  },
  {
   "cell_type": "code",
   "execution_count": 159,
   "id": "67d26ac3-d5bb-4288-aa28-466a6eda01be",
   "metadata": {},
   "outputs": [],
   "source": [
    "test3_grad = x -> Zygote.gradient(test3,x);"
   ]
  },
  {
   "cell_type": "code",
   "execution_count": 160,
   "id": "6654c87e-495c-4df8-81e3-0267151a184e",
   "metadata": {},
   "outputs": [
    {
     "data": {
      "text/plain": [
       "7.538324935121546"
      ]
     },
     "execution_count": 174,
     "metadata": {},
     "output_type": "execute_result"
    }
   ],
   "source": [
    "test3([1.01])# + 0*im)"
   ]
  },
  {
   "cell_type": "code",
   "execution_count": null,
   "id": "afbeb417-e957-437b-9996-29dff5b30290",
   "metadata": {},
   "outputs": [],
   "source": []
  }
 ],
 "metadata": {
  "kernelspec": {
   "display_name": "Julia 1.7.2",
   "language": "julia",
   "name": "julia-1.7"
  },
  "language_info": {
   "file_extension": ".jl",
   "mimetype": "application/julia",
   "name": "julia",
   "version": "1.7.2"
  }
 },
 "nbformat": 4,
 "nbformat_minor": 5
}
