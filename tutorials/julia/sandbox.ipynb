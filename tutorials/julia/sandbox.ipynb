{
 "cells": [
  {
   "cell_type": "code",
   "execution_count": 45,
   "id": "350cadbc-1474-45b3-9ea6-fc44f1aadfe3",
   "metadata": {},
   "outputs": [],
   "source": [
    "using ForwardDiff\n",
    "using DifferentialEquations\n",
    "const DE = DifferentialEquations\n",
    "using Zygote\n",
    "using DiffEqSensitivity\n",
    "using PyPlot\n",
    "using CUDA\n",
    "using LinearAlgebra"
   ]
  },
  {
   "cell_type": "code",
   "execution_count": 75,
   "id": "86a0a307-825f-4f25-9d0f-c741675e9fd6",
   "metadata": {},
   "outputs": [
    {
     "data": {
      "text/plain": [
       "#17 (generic function with 1 method)"
      ]
     },
     "execution_count": 75,
     "metadata": {},
     "output_type": "execute_result"
    }
   ],
   "source": [
    "function f(a)\n",
    "    A = a*[.1 2; .3 .4]\n",
    "    b = [1/sqrt(2); 1/sqrt(2)]\n",
    "    for i=1:100\n",
    "        b = A*b\n",
    "    end\n",
    "    return b[1]\n",
    "end     \n",
    "f_grad = x -> ForwardDiff.derivative(f,x)"
   ]
  },
  {
   "cell_type": "code",
   "execution_count": 138,
   "id": "0ea38391-f540-4265-ba4d-2e9b739438fb",
   "metadata": {},
   "outputs": [
    {
     "data": {
      "text/plain": [
       "#69 (generic function with 1 method)"
      ]
     },
     "execution_count": 138,
     "metadata": {},
     "output_type": "execute_result"
    }
   ],
   "source": [
    "function f(a)\n",
    "    p0 = a\n",
    "    f(u,p,t) = p*u\n",
    "    u0 = 1\n",
    "    for i=1:100\n",
    "        tspan = ((i-1)/100,i/100)\n",
    "        prob = DE.ODEProblem(f,u0,tspan, p=p0)\n",
    "        tmp_prob = remake(prob, p=p0)\n",
    "        sol = DE.solve(tmp_prob, Tsit5(); reltol=1e-8, abstol=1e-8)\n",
    "        u0 = sol.u[end]\n",
    "    end\n",
    "    return u0\n",
    "end\n",
    "f_grad = x -> ForwardDiff.derivative(f,x)"
   ]
  },
  {
   "cell_type": "code",
   "execution_count": 139,
   "id": "dec6c087-98df-4108-bf9a-fc6ef6459f53",
   "metadata": {},
   "outputs": [
    {
     "name": "stdout",
     "output_type": "stream",
     "text": [
      "  1.227274 seconds (2.51 M allocations: 140.309 MiB, 4.15% gc time, 99.45% compilation time)\n"
     ]
    },
    {
     "data": {
      "text/plain": [
       "2.71828182845909"
      ]
     },
     "execution_count": 139,
     "metadata": {},
     "output_type": "execute_result"
    }
   ],
   "source": [
    "@time f_grad(1.0) "
   ]
  },
  {
   "cell_type": "code",
   "execution_count": 140,
   "id": "bcf4a799-41ed-4be0-ba11-92970b2cf38d",
   "metadata": {},
   "outputs": [
    {
     "name": "stdout",
     "output_type": "stream",
     "text": [
      "  0.006111 seconds (30.10 k allocations: 1.910 MiB)\n"
     ]
    },
    {
     "data": {
      "text/plain": [
       "2.71828182845909"
      ]
     },
     "execution_count": 140,
     "metadata": {},
     "output_type": "execute_result"
    }
   ],
   "source": [
    "@time f_grad(1.0)"
   ]
  },
  {
   "cell_type": "code",
   "execution_count": 213,
   "id": "03ed40af-7fa2-4871-994a-93c03f0aeee3",
   "metadata": {},
   "outputs": [
    {
     "data": {
      "text/plain": [
       "test3 (generic function with 1 method)"
      ]
     },
     "execution_count": 213,
     "metadata": {},
     "output_type": "execute_result"
    }
   ],
   "source": [
    "function test3(a)\n",
    "    p0 = a\n",
    "    f(u,p,t) = p*u\n",
    "    u0 = 0.0*im\n",
    "    for i=1:10\n",
    "        tspan = (0.0,2.0)\n",
    "        prob = DE.ODEProblem(f,u0,tspan, p=p0)\n",
    "        tmp_prob = remake(prob, p=p0)\n",
    "        sol = DE.solve(tmp_prob, Tsit5(); reltol=1e-8, abstol=1e-8)\n",
    "        u0 = sol.u[end]\n",
    "    end\n",
    "    return real(u0)\n",
    "end"
   ]
  },
  {
   "cell_type": "code",
   "execution_count": 214,
   "id": "97bd9896-46e4-4af6-babc-f9b5ae50c634",
   "metadata": {},
   "outputs": [
    {
     "data": {
      "text/plain": [
       "0.0"
      ]
     },
     "execution_count": 214,
     "metadata": {},
     "output_type": "execute_result"
    }
   ],
   "source": [
    "test3(1.0*im)"
   ]
  },
  {
   "cell_type": "code",
   "execution_count": 215,
   "id": "f9b6a51c-bdc1-44d4-aa7b-c92dc8f06a01",
   "metadata": {},
   "outputs": [
    {
     "data": {
      "text/plain": [
       "DF (generic function with 1 method)"
      ]
     },
     "execution_count": 215,
     "metadata": {},
     "output_type": "execute_result"
    }
   ],
   "source": [
    "DF(test3) = x -> Zygote.gradient(test3, x)"
   ]
  },
  {
   "cell_type": "code",
   "execution_count": 216,
   "id": "ba6088cf-6633-4d43-9dde-76f96a0c06ab",
   "metadata": {},
   "outputs": [
    {
     "ename": "LoadError",
     "evalue": "MethodError: no method matching similar(::Float64, ::Int64)\n\u001b[0mClosest candidates are:\n\u001b[0m  similar(\u001b[91m::PyCall.PyVector{T}\u001b[39m, ::Int64...) where T at ~/.julia/packages/PyCall/7a7w0/src/conversions.jl:268\n\u001b[0m  similar(\u001b[91m::PyCall.PyVector\u001b[39m, ::Any, \u001b[91m::Tuple{Vararg{Int64, N}} where N\u001b[39m) at ~/.julia/packages/PyCall/7a7w0/src/conversions.jl:265\n\u001b[0m  similar(\u001b[91m::ReverseDiff.TrackedArray\u001b[39m, ::Union{Integer, AbstractUnitRange}...) at ~/.julia/packages/ReverseDiff/Z4pL0/src/tracked.jl:387\n\u001b[0m  ...",
     "output_type": "error",
     "traceback": [
      "MethodError: no method matching similar(::Float64, ::Int64)\n\u001b[0mClosest candidates are:\n\u001b[0m  similar(\u001b[91m::PyCall.PyVector{T}\u001b[39m, ::Int64...) where T at ~/.julia/packages/PyCall/7a7w0/src/conversions.jl:268\n\u001b[0m  similar(\u001b[91m::PyCall.PyVector\u001b[39m, ::Any, \u001b[91m::Tuple{Vararg{Int64, N}} where N\u001b[39m) at ~/.julia/packages/PyCall/7a7w0/src/conversions.jl:265\n\u001b[0m  similar(\u001b[91m::ReverseDiff.TrackedArray\u001b[39m, ::Union{Integer, AbstractUnitRange}...) at ~/.julia/packages/ReverseDiff/Z4pL0/src/tracked.jl:387\n\u001b[0m  ...",
      "",
      "Stacktrace:",
      "  [1] ODEAdjointProblem(sol::ODESolution{ComplexF64, 1, Vector{ComplexF64}, Nothing, Nothing, Vector{Float64}, Vector{Vector{ComplexF64}}, ODEProblem{ComplexF64, Tuple{Float64, Float64}, false, Float64, ODEFunction{false, var\"#f#133\", UniformScaling{Bool}, Nothing, Nothing, Nothing, Nothing, Nothing, Nothing, Nothing, Nothing, Nothing, Nothing, Nothing, Nothing, typeof(SciMLBase.DEFAULT_OBSERVED), Nothing}, Base.Pairs{Symbol, Float64, Tuple{Symbol}, NamedTuple{(:p,), Tuple{Float64}}}, SciMLBase.StandardODEProblem}, Tsit5{typeof(OrdinaryDiffEq.trivial_limiter!), typeof(OrdinaryDiffEq.trivial_limiter!), Static.False}, OrdinaryDiffEq.InterpolationData{ODEFunction{false, var\"#f#133\", UniformScaling{Bool}, Nothing, Nothing, Nothing, Nothing, Nothing, Nothing, Nothing, Nothing, Nothing, Nothing, Nothing, Nothing, typeof(SciMLBase.DEFAULT_OBSERVED), Nothing}, Vector{ComplexF64}, Vector{Float64}, Vector{Vector{ComplexF64}}, OrdinaryDiffEq.Tsit5ConstantCache{Float64, Float64}}, DiffEqBase.DEStats}, sensealg::InterpolatingAdjoint{0, true, Val{:central}, ZygoteVJP, Bool}, g::DiffEqSensitivity.var\"#df#251\"{ODESolution{ComplexF64, 1, Vector{ComplexF64}, Nothing, Nothing, Vector{Float64}, Nothing, ODEProblem{ComplexF64, Tuple{Float64, Float64}, false, Float64, ODEFunction{false, var\"#f#133\", UniformScaling{Bool}, Nothing, Nothing, Nothing, Nothing, Nothing, Nothing, Nothing, Nothing, Nothing, Nothing, Nothing, Nothing, typeof(SciMLBase.DEFAULT_OBSERVED), Nothing}, Base.Pairs{Symbol, Float64, Tuple{Symbol}, NamedTuple{(:p,), Tuple{Float64}}}, SciMLBase.StandardODEProblem}, Tsit5{typeof(OrdinaryDiffEq.trivial_limiter!), typeof(OrdinaryDiffEq.trivial_limiter!), Static.False}, SciMLBase.LinearInterpolation{Vector{Float64}, Vector{ComplexF64}}, Nothing}, Colon}, t::Vector{Float64}, dg::Nothing; checkpoints::Vector{Float64}, callback::Nothing, reltol::Float64, abstol::Float64, kwargs::Base.Pairs{Symbol, Float64, Tuple{Symbol}, NamedTuple{(:p,), Tuple{Float64}}})",
      "    @ DiffEqSensitivity ~/.julia/packages/DiffEqSensitivity/T7LDZ/src/interpolating_adjoint.jl:257",
      "  [2] _adjoint_sensitivities(sol::ODESolution{ComplexF64, 1, Vector{ComplexF64}, Nothing, Nothing, Vector{Float64}, Vector{Vector{ComplexF64}}, ODEProblem{ComplexF64, Tuple{Float64, Float64}, false, Float64, ODEFunction{false, var\"#f#133\", UniformScaling{Bool}, Nothing, Nothing, Nothing, Nothing, Nothing, Nothing, Nothing, Nothing, Nothing, Nothing, Nothing, Nothing, typeof(SciMLBase.DEFAULT_OBSERVED), Nothing}, Base.Pairs{Symbol, Float64, Tuple{Symbol}, NamedTuple{(:p,), Tuple{Float64}}}, SciMLBase.StandardODEProblem}, Tsit5{typeof(OrdinaryDiffEq.trivial_limiter!), typeof(OrdinaryDiffEq.trivial_limiter!), Static.False}, OrdinaryDiffEq.InterpolationData{ODEFunction{false, var\"#f#133\", UniformScaling{Bool}, Nothing, Nothing, Nothing, Nothing, Nothing, Nothing, Nothing, Nothing, Nothing, Nothing, Nothing, Nothing, typeof(SciMLBase.DEFAULT_OBSERVED), Nothing}, Vector{ComplexF64}, Vector{Float64}, Vector{Vector{ComplexF64}}, OrdinaryDiffEq.Tsit5ConstantCache{Float64, Float64}}, DiffEqBase.DEStats}, sensealg::InterpolatingAdjoint{0, true, Val{:central}, ZygoteVJP, Bool}, alg::Tsit5{typeof(OrdinaryDiffEq.trivial_limiter!), typeof(OrdinaryDiffEq.trivial_limiter!), Static.False}, g::DiffEqSensitivity.var\"#df#251\"{ODESolution{ComplexF64, 1, Vector{ComplexF64}, Nothing, Nothing, Vector{Float64}, Nothing, ODEProblem{ComplexF64, Tuple{Float64, Float64}, false, Float64, ODEFunction{false, var\"#f#133\", UniformScaling{Bool}, Nothing, Nothing, Nothing, Nothing, Nothing, Nothing, Nothing, Nothing, Nothing, Nothing, Nothing, Nothing, typeof(SciMLBase.DEFAULT_OBSERVED), Nothing}, Base.Pairs{Symbol, Float64, Tuple{Symbol}, NamedTuple{(:p,), Tuple{Float64}}}, SciMLBase.StandardODEProblem}, Tsit5{typeof(OrdinaryDiffEq.trivial_limiter!), typeof(OrdinaryDiffEq.trivial_limiter!), Static.False}, SciMLBase.LinearInterpolation{Vector{Float64}, Vector{ComplexF64}}, Nothing}, Colon}, t::Vector{Float64}, dg::Nothing; abstol::Float64, reltol::Float64, checkpoints::Vector{Float64}, corfunc_analytical::Nothing, callback::Nothing, kwargs::Base.Pairs{Symbol, Float64, Tuple{Symbol}, NamedTuple{(:p,), Tuple{Float64}}})",
      "    @ DiffEqSensitivity ~/.julia/packages/DiffEqSensitivity/T7LDZ/src/sensitivity_interface.jl:17",
      "  [3] adjoint_sensitivities(::ODESolution{ComplexF64, 1, Vector{ComplexF64}, Nothing, Nothing, Vector{Float64}, Vector{Vector{ComplexF64}}, ODEProblem{ComplexF64, Tuple{Float64, Float64}, false, Float64, ODEFunction{false, var\"#f#133\", UniformScaling{Bool}, Nothing, Nothing, Nothing, Nothing, Nothing, Nothing, Nothing, Nothing, Nothing, Nothing, Nothing, Nothing, typeof(SciMLBase.DEFAULT_OBSERVED), Nothing}, Base.Pairs{Symbol, Float64, Tuple{Symbol}, NamedTuple{(:p,), Tuple{Float64}}}, SciMLBase.StandardODEProblem}, Tsit5{typeof(OrdinaryDiffEq.trivial_limiter!), typeof(OrdinaryDiffEq.trivial_limiter!), Static.False}, OrdinaryDiffEq.InterpolationData{ODEFunction{false, var\"#f#133\", UniformScaling{Bool}, Nothing, Nothing, Nothing, Nothing, Nothing, Nothing, Nothing, Nothing, Nothing, Nothing, Nothing, Nothing, typeof(SciMLBase.DEFAULT_OBSERVED), Nothing}, Vector{ComplexF64}, Vector{Float64}, Vector{Vector{ComplexF64}}, OrdinaryDiffEq.Tsit5ConstantCache{Float64, Float64}}, DiffEqBase.DEStats}, ::Tsit5{typeof(OrdinaryDiffEq.trivial_limiter!), typeof(OrdinaryDiffEq.trivial_limiter!), Static.False}, ::Vararg{Any}; sensealg::InterpolatingAdjoint{0, true, Val{:central}, ZygoteVJP, Bool}, kwargs::Base.Pairs{Symbol, Union{Nothing, Float64}, NTuple{4, Symbol}, NamedTuple{(:callback, :p, :reltol, :abstol), Tuple{Nothing, Float64, Float64, Float64}}})",
      "    @ DiffEqSensitivity ~/.julia/packages/DiffEqSensitivity/T7LDZ/src/sensitivity_interface.jl:6",
      "  [4] (::DiffEqSensitivity.var\"#adjoint_sensitivity_backpass#250\"{Base.Pairs{Symbol, Float64, Tuple{Symbol, Symbol, Symbol}, NamedTuple{(:p, :reltol, :abstol), Tuple{Float64, Float64, Float64}}}, Tsit5{typeof(OrdinaryDiffEq.trivial_limiter!), typeof(OrdinaryDiffEq.trivial_limiter!), Static.False}, InterpolatingAdjoint{0, true, Val{:central}, ZygoteVJP, Bool}, ComplexF64, Float64, Tuple{}, Colon, NamedTuple{(:p, :reltol, :abstol), Tuple{Float64, Float64, Float64}}})(Δ::ODESolution{ComplexF64, 1, Vector{ComplexF64}, Nothing, Nothing, Vector{Float64}, Nothing, ODEProblem{ComplexF64, Tuple{Float64, Float64}, false, Float64, ODEFunction{false, var\"#f#133\", UniformScaling{Bool}, Nothing, Nothing, Nothing, Nothing, Nothing, Nothing, Nothing, Nothing, Nothing, Nothing, Nothing, Nothing, typeof(SciMLBase.DEFAULT_OBSERVED), Nothing}, Base.Pairs{Symbol, Float64, Tuple{Symbol}, NamedTuple{(:p,), Tuple{Float64}}}, SciMLBase.StandardODEProblem}, Tsit5{typeof(OrdinaryDiffEq.trivial_limiter!), typeof(OrdinaryDiffEq.trivial_limiter!), Static.False}, SciMLBase.LinearInterpolation{Vector{Float64}, Vector{ComplexF64}}, Nothing})",
      "    @ DiffEqSensitivity ~/.julia/packages/DiffEqSensitivity/T7LDZ/src/concrete_solve.jl:249",
      "  [5] ZBack",
      "    @ ~/.julia/packages/Zygote/ytjqm/src/compiler/chainrules.jl:205 [inlined]",
      "  [6] (::Zygote.var\"#kw_zpullback#41\"{DiffEqSensitivity.var\"#adjoint_sensitivity_backpass#250\"{Base.Pairs{Symbol, Float64, Tuple{Symbol, Symbol, Symbol}, NamedTuple{(:p, :reltol, :abstol), Tuple{Float64, Float64, Float64}}}, Tsit5{typeof(OrdinaryDiffEq.trivial_limiter!), typeof(OrdinaryDiffEq.trivial_limiter!), Static.False}, InterpolatingAdjoint{0, true, Val{:central}, ZygoteVJP, Bool}, ComplexF64, Float64, Tuple{}, Colon, NamedTuple{(:p, :reltol, :abstol), Tuple{Float64, Float64, Float64}}}})(dy::ODESolution{ComplexF64, 1, Vector{ComplexF64}, Nothing, Nothing, Vector{Float64}, Nothing, ODEProblem{ComplexF64, Tuple{Float64, Float64}, false, Float64, ODEFunction{false, var\"#f#133\", UniformScaling{Bool}, Nothing, Nothing, Nothing, Nothing, Nothing, Nothing, Nothing, Nothing, Nothing, Nothing, Nothing, Nothing, typeof(SciMLBase.DEFAULT_OBSERVED), Nothing}, Base.Pairs{Symbol, Float64, Tuple{Symbol}, NamedTuple{(:p,), Tuple{Float64}}}, SciMLBase.StandardODEProblem}, Tsit5{typeof(OrdinaryDiffEq.trivial_limiter!), typeof(OrdinaryDiffEq.trivial_limiter!), Static.False}, SciMLBase.LinearInterpolation{Vector{Float64}, Vector{ComplexF64}}, Nothing})",
      "    @ Zygote ~/.julia/packages/Zygote/ytjqm/src/compiler/chainrules.jl:231",
      "  [7] #212",
      "    @ ~/.julia/packages/Zygote/ytjqm/src/lib/lib.jl:203 [inlined]",
      "  [8] (::Zygote.var\"#1750#back#214\"{Zygote.var\"#212#213\"{Tuple{NTuple{6, Nothing}, Tuple{Nothing}}, Zygote.var\"#kw_zpullback#41\"{DiffEqSensitivity.var\"#adjoint_sensitivity_backpass#250\"{Base.Pairs{Symbol, Float64, Tuple{Symbol, Symbol, Symbol}, NamedTuple{(:p, :reltol, :abstol), Tuple{Float64, Float64, Float64}}}, Tsit5{typeof(OrdinaryDiffEq.trivial_limiter!), typeof(OrdinaryDiffEq.trivial_limiter!), Static.False}, InterpolatingAdjoint{0, true, Val{:central}, ZygoteVJP, Bool}, ComplexF64, Float64, Tuple{}, Colon, NamedTuple{(:p, :reltol, :abstol), Tuple{Float64, Float64, Float64}}}}}})(Δ::ODESolution{ComplexF64, 1, Vector{ComplexF64}, Nothing, Nothing, Vector{Float64}, Nothing, ODEProblem{ComplexF64, Tuple{Float64, Float64}, false, Float64, ODEFunction{false, var\"#f#133\", UniformScaling{Bool}, Nothing, Nothing, Nothing, Nothing, Nothing, Nothing, Nothing, Nothing, Nothing, Nothing, Nothing, Nothing, typeof(SciMLBase.DEFAULT_OBSERVED), Nothing}, Base.Pairs{Symbol, Float64, Tuple{Symbol}, NamedTuple{(:p,), Tuple{Float64}}}, SciMLBase.StandardODEProblem}, Tsit5{typeof(OrdinaryDiffEq.trivial_limiter!), typeof(OrdinaryDiffEq.trivial_limiter!), Static.False}, SciMLBase.LinearInterpolation{Vector{Float64}, Vector{ComplexF64}}, Nothing})",
      "    @ Zygote ~/.julia/packages/ZygoteRules/AIbCs/src/adjoint.jl:67",
      "  [9] Pullback",
      "    @ ~/.julia/packages/DiffEqBase/ziNGu/src/solve.jl:165 [inlined]",
      " [10] (::typeof(∂(#solve#40)))(Δ::ODESolution{ComplexF64, 1, Vector{ComplexF64}, Nothing, Nothing, Vector{Float64}, Nothing, ODEProblem{ComplexF64, Tuple{Float64, Float64}, false, Float64, ODEFunction{false, var\"#f#133\", UniformScaling{Bool}, Nothing, Nothing, Nothing, Nothing, Nothing, Nothing, Nothing, Nothing, Nothing, Nothing, Nothing, Nothing, typeof(SciMLBase.DEFAULT_OBSERVED), Nothing}, Base.Pairs{Symbol, Float64, Tuple{Symbol}, NamedTuple{(:p,), Tuple{Float64}}}, SciMLBase.StandardODEProblem}, Tsit5{typeof(OrdinaryDiffEq.trivial_limiter!), typeof(OrdinaryDiffEq.trivial_limiter!), Static.False}, SciMLBase.LinearInterpolation{Vector{Float64}, Vector{ComplexF64}}, Nothing})",
      "    @ Zygote ~/.julia/packages/Zygote/ytjqm/src/compiler/interface2.jl:0",
      " [11] (::Zygote.var\"#212#213\"{Tuple{NTuple{7, Nothing}, Tuple{Nothing}}, typeof(∂(#solve#40))})(Δ::ODESolution{ComplexF64, 1, Vector{ComplexF64}, Nothing, Nothing, Vector{Float64}, Nothing, ODEProblem{ComplexF64, Tuple{Float64, Float64}, false, Float64, ODEFunction{false, var\"#f#133\", UniformScaling{Bool}, Nothing, Nothing, Nothing, Nothing, Nothing, Nothing, Nothing, Nothing, Nothing, Nothing, Nothing, Nothing, typeof(SciMLBase.DEFAULT_OBSERVED), Nothing}, Base.Pairs{Symbol, Float64, Tuple{Symbol}, NamedTuple{(:p,), Tuple{Float64}}}, SciMLBase.StandardODEProblem}, Tsit5{typeof(OrdinaryDiffEq.trivial_limiter!), typeof(OrdinaryDiffEq.trivial_limiter!), Static.False}, SciMLBase.LinearInterpolation{Vector{Float64}, Vector{ComplexF64}}, Nothing})",
      "    @ Zygote ~/.julia/packages/Zygote/ytjqm/src/lib/lib.jl:203",
      " [12] (::Zygote.var\"#1750#back#214\"{Zygote.var\"#212#213\"{Tuple{NTuple{7, Nothing}, Tuple{Nothing}}, typeof(∂(#solve#40))}})(Δ::ODESolution{ComplexF64, 1, Vector{ComplexF64}, Nothing, Nothing, Vector{Float64}, Nothing, ODEProblem{ComplexF64, Tuple{Float64, Float64}, false, Float64, ODEFunction{false, var\"#f#133\", UniformScaling{Bool}, Nothing, Nothing, Nothing, Nothing, Nothing, Nothing, Nothing, Nothing, Nothing, Nothing, Nothing, Nothing, typeof(SciMLBase.DEFAULT_OBSERVED), Nothing}, Base.Pairs{Symbol, Float64, Tuple{Symbol}, NamedTuple{(:p,), Tuple{Float64}}}, SciMLBase.StandardODEProblem}, Tsit5{typeof(OrdinaryDiffEq.trivial_limiter!), typeof(OrdinaryDiffEq.trivial_limiter!), Static.False}, SciMLBase.LinearInterpolation{Vector{Float64}, Vector{ComplexF64}}, Nothing})",
      "    @ Zygote ~/.julia/packages/ZygoteRules/AIbCs/src/adjoint.jl:67",
      " [13] Pullback",
      "    @ ~/.julia/packages/DiffEqBase/ziNGu/src/solve.jl:159 [inlined]",
      " [14] (::typeof(∂(solve##kw)))(Δ::ODESolution{ComplexF64, 1, Vector{ComplexF64}, Nothing, Nothing, Vector{Float64}, Nothing, ODEProblem{ComplexF64, Tuple{Float64, Float64}, false, Float64, ODEFunction{false, var\"#f#133\", UniformScaling{Bool}, Nothing, Nothing, Nothing, Nothing, Nothing, Nothing, Nothing, Nothing, Nothing, Nothing, Nothing, Nothing, typeof(SciMLBase.DEFAULT_OBSERVED), Nothing}, Base.Pairs{Symbol, Float64, Tuple{Symbol}, NamedTuple{(:p,), Tuple{Float64}}}, SciMLBase.StandardODEProblem}, Tsit5{typeof(OrdinaryDiffEq.trivial_limiter!), typeof(OrdinaryDiffEq.trivial_limiter!), Static.False}, SciMLBase.LinearInterpolation{Vector{Float64}, Vector{ComplexF64}}, Nothing})",
      "    @ Zygote ~/.julia/packages/Zygote/ytjqm/src/compiler/interface2.jl:0",
      " [15] Pullback",
      "    @ ./In[213]:9 [inlined]",
      " [16] (::typeof(∂(test3)))(Δ::Float64)",
      "    @ Zygote ~/.julia/packages/Zygote/ytjqm/src/compiler/interface2.jl:0",
      " [17] (::Zygote.var\"#56#57\"{typeof(∂(test3))})(Δ::Float64)",
      "    @ Zygote ~/.julia/packages/Zygote/ytjqm/src/compiler/interface.jl:41",
      " [18] gradient(f::Function, args::Float64)",
      "    @ Zygote ~/.julia/packages/Zygote/ytjqm/src/compiler/interface.jl:76",
      " [19] (::var\"#134#135\"{typeof(test3)})(x::Float64)",
      "    @ Main ./In[215]:1",
      " [20] top-level scope",
      "    @ In[216]:1",
      " [21] eval",
      "    @ ./boot.jl:373 [inlined]",
      " [22] include_string(mapexpr::typeof(REPL.softscope), mod::Module, code::String, filename::String)",
      "    @ Base ./loading.jl:1196"
     ]
    }
   ],
   "source": [
    "DF(test3)(1.0)"
   ]
  },
  {
   "cell_type": "markdown",
   "id": "feb7f0c6-7161-4354-b05e-e9901bb7688b",
   "metadata": {
    "tags": []
   },
   "source": [
    "# Playground"
   ]
  },
  {
   "cell_type": "code",
   "execution_count": 6,
   "id": "e9b98eb9-e83f-42ed-9834-ddfb209facaa",
   "metadata": {},
   "outputs": [
    {
     "data": {
      "text/plain": [
       "#6 (generic function with 1 method)"
      ]
     },
     "execution_count": 6,
     "metadata": {},
     "output_type": "execute_result"
    }
   ],
   "source": [
    "f = x -> x^2"
   ]
  },
  {
   "cell_type": "code",
   "execution_count": 10,
   "id": "339f8f48-c664-4fde-bdb0-065011ce6be1",
   "metadata": {},
   "outputs": [
    {
     "name": "stdout",
     "output_type": "stream",
     "text": [
      "  0.000012 seconds\n"
     ]
    },
    {
     "data": {
      "text/plain": [
       "24"
      ]
     },
     "execution_count": 10,
     "metadata": {},
     "output_type": "execute_result"
    }
   ],
   "source": [
    "@time DF(f)(12)"
   ]
  },
  {
   "cell_type": "code",
   "execution_count": 152,
   "id": "0c7cd9bc-c299-4a4f-91bb-2a1785da7188",
   "metadata": {},
   "outputs": [
    {
     "data": {
      "text/plain": [
       "test3 (generic function with 1 method)"
      ]
     },
     "execution_count": 172,
     "metadata": {},
     "output_type": "execute_result"
    }
   ],
   "source": []
  },
  {
   "cell_type": "code",
   "execution_count": 159,
   "id": "67d26ac3-d5bb-4288-aa28-466a6eda01be",
   "metadata": {},
   "outputs": [],
   "source": [
    "test3_grad = x -> Zygote.gradient(test3,x);"
   ]
  },
  {
   "cell_type": "code",
   "execution_count": 160,
   "id": "6654c87e-495c-4df8-81e3-0267151a184e",
   "metadata": {},
   "outputs": [
    {
     "data": {
      "text/plain": [
       "7.538324935121546"
      ]
     },
     "execution_count": 174,
     "metadata": {},
     "output_type": "execute_result"
    }
   ],
   "source": [
    "test3([1.01])# + 0*im)"
   ]
  },
  {
   "cell_type": "code",
   "execution_count": null,
   "id": "afbeb417-e957-437b-9996-29dff5b30290",
   "metadata": {},
   "outputs": [],
   "source": []
  }
 ],
 "metadata": {
  "kernelspec": {
   "display_name": "Julia 1.7.2",
   "language": "julia",
   "name": "julia-1.7"
  },
  "language_info": {
   "file_extension": ".jl",
   "mimetype": "application/julia",
   "name": "julia",
   "version": "1.7.2"
  }
 },
 "nbformat": 4,
 "nbformat_minor": 5
}
