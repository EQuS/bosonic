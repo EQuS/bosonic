{
    "cells": [
        {
            "cell_type": "code",
            "execution_count": 6,
            "id": "b4a9c741-3fc2-4ba2-a946-29797c1b81c0",
            "metadata": {},
            "outputs": [
                {
                    "name": "stdout",
                    "output_type": "stream",
                    "text": [
                        "The autoreload extension is already loaded. To reload it, use:\n",
                        "  %reload_ext autoreload\n"
                    ]
                }
            ],
            "source": [
                "%load_ext autoreload\n",
                "%autoreload 2"
            ]
        },
        {
            "cell_type": "code",
            "execution_count": 7,
            "id": "97e10c48-e28c-41d4-9177-25f8761be2c4",
            "metadata": {},
            "outputs": [],
            "source": [
                "import sys\n",
                "sys.path.insert(0, \"../../\")"
            ]
        },
        {
            "cell_type": "code",
            "execution_count": 8,
            "id": "69778638-0ad6-425e-aecb-f0fcb8535e85",
            "metadata": {},
            "outputs": [],
            "source": [
                "import bosonic_jax.jax_qutip as jqt\n",
                "from jax import jit, grad\n",
                "from jax.experimental.ode import odeint\n",
                "import jax.numpy as jnp\n",
                "import time\n",
                "import matplotlib.pyplot as plt\n",
                "import seaborn as sns\n",
                "import numpy as np\n",
                "import qutip as qt\n",
                "\n",
                "\n",
                "from jax import device_put\n",
                "\n",
                "# Apply the default theme\n",
                "sns.set_theme()\n",
                "\n",
                "from jax.config import config\n",
                "config.update(\"jax_enable_x64\", True)\n",
                "\n",
                "from scipy.integrate import odeint as odeint_sp"
            ]
        },
        {
            "cell_type": "markdown",
            "id": "13ccd130-9f25-4f5c-a4c1-5c2e2af8d79b",
            "metadata": {},
            "source": [
                "# QuTiP"
            ]
        },
        {
            "cell_type": "code",
            "execution_count": 9,
            "id": "f37b102d-e2ef-4932-9abc-883cd0a315c7",
            "metadata": {},
            "outputs": [],
            "source": [
                "def pi_exp_qt(omega_d):\n",
                "    results = qt.mesolve([5.0/2.0*qt.sigmaz(), [qt.sigmax(), 'cos(omega_d*t)']], qt.ket2dm(qt.basis(2,0)), np.linspace(0,np.pi,101), args={\"omega_d\": omega_d})\n",
                "    return np.real((results.states[-1] * qt.sigmaz()).tr())"
            ]
        },
        {
            "cell_type": "code",
            "execution_count": 10,
            "id": "e7a1c8e0-4876-43ac-afee-20deed758db5",
            "metadata": {},
            "outputs": [
                {
                    "data": {
                        "text/plain": [
                            "(-0.9997216696066519, -0.9948769257038724)"
                        ]
                    },
                    "execution_count": 10,
                    "metadata": {},
                    "output_type": "execute_result"
                }
            ],
            "source": [
                "pi_exp_qt(4.95), pi_exp_qt(5.0)"
            ]
        },
        {
            "cell_type": "markdown",
            "id": "247f6a88-32ed-449c-91b4-534169a1550f",
            "metadata": {},
            "source": [
                "# SciPy"
            ]
        },
        {
            "cell_type": "code",
            "execution_count": 32,
            "id": "acee3339-40dc-4941-baca-82690939849e",
            "metadata": {},
            "outputs": [
                {
                    "name": "stdout",
                    "output_type": "stream",
                    "text": [
                        "[1. 0. 0. 0. 0. 0. 0. 0.]\n"
                    ]
                }
            ],
            "source": [
                "omega_q = 5.0 #GHz\n",
                "Omega = .01\n",
                "H0 = omega_q/2.0*np.array(jqt.sigmaz())\n",
                "H1 = Omega*np.array(jqt.sigmax())\n",
                "g_state = np.array(jqt.ket2dm(jqt.basis(2,0)))\n",
                "g_state_flat = np.concatenate([g_state.reshape(4,), np.zeros_like(g_state).reshape(4,)])\n",
                "print(g_state_flat)\n",
                "\n",
                "c_ops = np.array([])\n",
                "\n",
                "\n",
                "def flat(rho):\n",
                "    return np.concatenate([np.real(rho).reshape(4,),np.imag(rho).reshape(4,)])\n",
                "\n",
                "def unflat(rho):\n",
                "    return rho[:4].reshape(2,2) + 1.0j*(rho[4:].reshape(2,2))\n",
                "\n",
                "def pi_exp_sp(omega_d):    \n",
                "    t_list = np.linspace(0,np.pi/Omega,101)\n",
                "    def H_func(rho_flat, t, H0_val, H1_val, c_ops_val):\n",
                "        rho = unflat(rho_flat)\n",
                "        fac = np.cos((omega_d+0j)*t)\n",
                "        H = H0 + H1*fac\n",
                "        rho_dot = -1.0j * (H @ rho) \n",
                "        rho_dot += -1.0j * (-rho @ H)\n",
                "        return flat(rho_dot)\n",
                "    \n",
                "    states = odeint_sp(H_func, g_state_flat, t_list, (H0, H1, c_ops))\n",
                "    final_state = states[-1]\n",
                "    return np.real(np.trace(unflat(final_state) @ np.array(jqt.sigmaz())))"
            ]
        },
        {
            "cell_type": "code",
            "execution_count": 33,
            "id": "f128ae37-2e97-4a67-8f6c-93aa583a3c03",
            "metadata": {},
            "outputs": [
                {
                    "data": {
                        "text/plain": [
                            "(0.9241884713043749, -1.0000142699123102)"
                        ]
                    },
                    "execution_count": 33,
                    "metadata": {},
                    "output_type": "execute_result"
                }
            ],
            "source": [
                "pi_exp_sp(4.95), pi_exp_sp(5.0)"
            ]
        },
        {
            "cell_type": "markdown",
            "id": "bf8f926f-da19-4e74-9dda-d752186dad00",
            "metadata": {},
            "source": [
                "# JAX"
            ]
        },
        {
            "cell_type": "code",
            "execution_count": 9,
            "id": "6414bc9b-a530-453d-b224-7fe2cf504806",
            "metadata": {},
            "outputs": [],
            "source": [
                "omega_q = device_put(5.0) #GHz\n",
                "Omega = device_put(.1)\n",
                "H0 = omega_q/2.0*jqt.sigmaz()\n",
                "H1 = Omega*jqt.sigmax()\n",
                "g_state = jqt.ket2dm(jqt.basis(2,0)) + 0.0j\n",
                "\n",
                "c_ops = jnp.array([])\n",
                "\n",
                "@jit\n",
                "def pi_exp(omega_d):    \n",
                "    t_list = jnp.linspace(0,jnp.pi/Omega,101)\n",
                "    def H_func(rho, t, H0_val, H1_val, c_ops_val):\n",
                "        fac = jnp.cos((omega_d+0j)*t)\n",
                "        H = H0 + H1*fac\n",
                "        rho_dot = -1.0j * (H @ rho)\n",
                "        rho_dot += -1.0j * (-rho @ H)\n",
                "        return rho_dot\n",
                "    \n",
                "    states = odeint(H_func, g_state, t_list, H0, H1, c_ops)\n",
                "    final_state = states[-1]\n",
                "    return jnp.real(jnp.trace(final_state @ jqt.sigmaz()))"
            ]
        },
        {
            "cell_type": "code",
            "execution_count": 10,
            "id": "b481a0ac-70c9-4112-b3f6-1aa20a26ebc5",
            "metadata": {},
            "outputs": [
                {
                    "data": {
                        "text/plain": [
                            "(DeviceArray(-0.53735125, dtype=float64),\n",
                            " DeviceArray(-0.99994763, dtype=float64))"
                        ]
                    },
                    "execution_count": 10,
                    "metadata": {},
                    "output_type": "execute_result"
                }
            ],
            "source": [
                "pi_exp(4.95), pi_exp(5.0)"
            ]
        },
        {
            "cell_type": "markdown",
            "id": "cd7ed6ca-9cbe-4aab-a41f-daf781650d1c",
            "metadata": {},
            "source": [
                "# Optimization w JAX"
            ]
        },
        {
            "cell_type": "code",
            "execution_count": 11,
            "id": "87ff4c38-a2bb-4e0e-8a58-4cd51fc9165c",
            "metadata": {},
            "outputs": [],
            "source": [
                "from jax.example_libraries.optimizers import adam\n",
                "from jax import jit, value_and_grad\n",
                "\n",
                "step_size = 2e-3\n",
                "epochs = 1800\n",
                "opt_init, opt_update, get_params = adam(step_size)\n",
                "\n",
                "@jit\n",
                "def cost(x):\n",
                "    return pi_exp(x)\n",
                "\n",
                "@jit\n",
                "def update(x, opt_state):\n",
                "    value, grads = value_and_grad(cost)(x)\n",
                "    opt_state = opt_update(0, grads, opt_state)\n",
                "    return get_params(opt_state), opt_state, value\n",
                "\n",
                "def run_training(opt_state, num_print = epochs//10):\n",
                "        x = get_params(opt_state)\n",
                "        log = {\"cost\":[], \"time\":[]}\n",
                "        log[\"cost\"].append(cost(x))\n",
                "\n",
                "        for epoch in range(epochs):\n",
                "            start_time = time.time()\n",
                "            x, opt_state, loss_val = update(x, opt_state)\n",
                "            log[\"cost\"].append(loss_val)\n",
                "            log[\"time\"].append(time.time() - start_time)\n",
                "            if epoch % num_print == 0:\n",
                "                print(\"=\" * 20)\n",
                "                print(\"Epoch: \", epoch)\n",
                "                print(\"Time: \", log[\"time\"][-1])\n",
                "                print(\"Cost: \", log[\"cost\"][-1])\n",
                "                print(\"omega_d: \", get_params(opt_state))\n",
                "        return log, opt_state"
            ]
        },
        {
            "cell_type": "code",
            "execution_count": 15,
            "id": "cb571b75-c55b-421c-9b78-8e1c15d00c38",
            "metadata": {},
            "outputs": [
                {
                    "name": "stdout",
                    "output_type": "stream",
                    "text": [
                        "====================\n",
                        "Epoch:  0\n",
                        "Time:  0.025523900985717773\n",
                        "Cost:  0.36276322175876535\n",
                        "omega_d:  4.9019999999988055\n",
                        "====================\n",
                        "Epoch:  180\n",
                        "Time:  0.014974832534790039\n",
                        "Cost:  -0.9999975947634898\n",
                        "omega_d:  4.999507698858035\n",
                        "====================\n",
                        "Epoch:  360\n",
                        "Time:  0.016843080520629883\n",
                        "Cost:  -0.9999976063086777\n",
                        "omega_d:  4.999500386805909\n",
                        "====================\n",
                        "Epoch:  540\n",
                        "Time:  0.014711141586303711\n",
                        "Cost:  -0.9999976063086781\n",
                        "omega_d:  4.999500386745226\n",
                        "====================\n",
                        "Epoch:  720\n",
                        "Time:  0.015829086303710938\n",
                        "Cost:  -0.9999976063086781\n",
                        "omega_d:  4.9995003867452255\n",
                        "====================\n",
                        "Epoch:  900\n",
                        "Time:  0.01471710205078125\n",
                        "Cost:  -0.9999976063086786\n",
                        "omega_d:  4.999500386745222\n",
                        "====================\n",
                        "Epoch:  1080\n",
                        "Time:  0.016277074813842773\n",
                        "Cost:  -0.9999976063086777\n",
                        "omega_d:  4.999500386745218\n",
                        "====================\n",
                        "Epoch:  1260\n",
                        "Time:  0.01784801483154297\n",
                        "Cost:  -0.9999976063086771\n",
                        "omega_d:  4.999500386745218\n",
                        "====================\n",
                        "Epoch:  1440\n",
                        "Time:  0.015022039413452148\n",
                        "Cost:  -0.9999976063086777\n",
                        "omega_d:  4.999500386745219\n",
                        "====================\n",
                        "Epoch:  1620\n",
                        "Time:  0.016129016876220703\n",
                        "Cost:  -0.9999976063086771\n",
                        "omega_d:  4.999500386745218\n"
                    ]
                }
            ],
            "source": [
                "opt_state = opt_init(4.9)\n",
                "log, opt_state = run_training(opt_state)\n",
                "omega_d_opt = get_params(opt_state)"
            ]
        },
        {
            "cell_type": "code",
            "execution_count": 16,
            "id": "4bebfb31-fdd6-4170-b32d-7ce4adf1796e",
            "metadata": {},
            "outputs": [],
            "source": [
                "def plot_cost_vs_epoch(log):\n",
                "    _, ax = plt.subplots(1, 1)\n",
                "    ax.plot(log[\"cost\"])\n",
                "    ax.set_xlabel(r\"${\\rm epoch\\ number}$\")\n",
                "    ax.set_ylabel(r\"${\\rm \\langle \\sigma_z \\rangle}$\")\n",
                "    ax.set_title(r\"${\\rm training\\ history}$\")\n",
                "    return ax"
            ]
        },
        {
            "cell_type": "code",
            "execution_count": 17,
            "id": "f51e1517-8179-481a-adda-6b172e2cb35d",
            "metadata": {},
            "outputs": [
                {
                    "data": {
                        "image/png": "[encoded data removed]",
                        "text/plain": [
                            "<Figure size 640x480 with 1 Axes>"
                        ]
                    },
                    "metadata": {},
                    "output_type": "display_data"
                }
            ],
            "source": [
                "ax = plot_cost_vs_epoch(log)\n",
                "ax.set_title(f\"$\\pi$-Pulse frequency optimization $\\\\omega_d^* = {omega_d_opt:.3}$\")\n",
                "plt.show()"
            ]
        },
        {
            "cell_type": "code",
            "execution_count": null,
            "id": "c05d322f-e080-4d25-8145-922b5100a395",
            "metadata": {},
            "outputs": [],
            "source": []
        },
        {
            "cell_type": "code",
            "execution_count": null,
            "id": "3c273551-087f-420e-bb17-e9503850ec29",
            "metadata": {},
            "outputs": [],
            "source": []
        }
    ],
    "metadata": {
        "kernelspec": {
            "display_name": "Python 3",
            "language": "python",
            "name": "python3"
        },
        "language_info": {
            "codemirror_mode": {
                "name": "ipython",
                "version": 3
            },
            "file_extension": ".py",
            "mimetype": "text/x-python",
            "name": "python",
            "nbconvert_exporter": "python",
            "pygments_lexer": "ipython3",
            "version": "3.9.5"
        }
    },
    "nbformat": 4,
    "nbformat_minor": 5
}